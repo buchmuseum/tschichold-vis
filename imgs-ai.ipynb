{
 "cells": [
  {
   "cell_type": "code",
   "execution_count": 42,
   "source": [
    "import requests\n",
    "from bs4 import BeautifulSoup as soup\n",
    "import csv"
   ],
   "outputs": [],
   "metadata": {}
  },
  {
   "cell_type": "code",
   "execution_count": null,
   "source": [
    "# alle IDNs eines sets abrufen   \n",
    "# https://services.dnb.de/oai2/repository?verb=ListRecords&metadataPrefix=mets&set=dnb:digitalisate-oa:projekt30\n",
    "\n",
    "base_url = 'https://services.dnb.de/oai2/repository?'\n",
    "params = {'metadataPrefix' : 'mets',\n",
    "        'verb': 'ListIdentifiers',\n",
    "        'set': 'dnb:digitalisate-oa:projekt30'\n",
    "        }\n",
    "r = requests.get(base_url, params=params)\n",
    "xml = soup(r.content)\n",
    "ids = xml.find_all('identifier')\n",
    "\n",
    "id_liste = []\n",
    "\n",
    "try:\n",
    "    resumption_token = xml.find('resumptiontoken').string.strip()\n",
    "except:\n",
    "    resumption_token = '0'\n",
    "\n",
    "if len(resumption_token) <= 1:\n",
    "    id_liste.extend([id.string.split('/')[2] for id in ids])\n",
    "    \n",
    "else:\n",
    "    rem_list = ['set', 'metadataPrefix']\n",
    "    [params.pop(key) for key in rem_list]\n",
    "\n",
    "    while len(resumption_token) > 1:\n",
    "        params.update({'resumptionToken': resumption_token})\n",
    "        r = requests.get(base_url, params=params)\n",
    "        xml = soup(r.content)\n",
    "        ids = xml.find_all('identifier')\n",
    "        id_liste.extend([id.string.split('/')[2] for id in ids])\n",
    "        try:\n",
    "            resumption_token = xml.find('resumptiontoken').string.strip()\n",
    "        except:\n",
    "            resumption_token = '0'"
   ],
   "outputs": [],
   "metadata": {}
  },
  {
   "cell_type": "code",
   "execution_count": 48,
   "source": [
    "# <METS:fileGrp USE=\"DEFAULT\">\n",
    "\n",
    "   \n",
    "# https://services.dnb.de/oai2/repository?verb=ListRecords&metadataPrefix=mets&set=dnb:digitalisate-oa:projekt30\n",
    "\n",
    "base_url = 'https://services.dnb.de/oai2/repository?'\n",
    "params = {'metadataPrefix' : 'mets',\n",
    "        'verb': 'ListRecords',\n",
    "        'set': 'dnb:digitalisate-oa:projekt30'\n",
    "        }\n",
    "# file_list = []\n",
    "with open('tschichold-list.csv', 'w', newline='') as f:\n",
    "    # wr = csv.writer(myfile, quoting=csv.QUOTE_ALL)\n",
    "    r = requests.get(base_url, params=params)\n",
    "    xml = soup(r.content)\n",
    "    records = xml.find_all('record')\n",
    "    for record in records:\n",
    "        files = record.find('mets:filegrp', {'use':'DEFAULT'}).find_all('mets:flocat', {'loctype': 'URL'})\n",
    "        if len(files[::2]) % 2 == 0: # gerade\n",
    "            for file in files[::2]:\n",
    "                # file_list.append(file['xlink:href'].split('?')[0])\n",
    "                f.write(file['xlink:href'].split('?')[0])\n",
    "                f.write('\\n')\n",
    "        else:\n",
    "            for file in files[:-1:2]:\n",
    "                # file_list.append(file['xlink:href'].split('?')[0])\n",
    "                f.write(file['xlink:href'].split('?')[0])\n",
    "                f.write('\\n')\n",
    "\n",
    "    try:\n",
    "        resumption_token = xml.find('resumptiontoken').string.strip()\n",
    "    except:\n",
    "        resumption_token = '0'\n",
    "\n",
    "    if len(resumption_token) > 1:\n",
    "        rem_list = ['set', 'metadataPrefix']\n",
    "        [params.pop(key) for key in rem_list]\n",
    "\n",
    "        while len(resumption_token) > 1:\n",
    "            params.update({'resumptionToken': resumption_token})\n",
    "            r = requests.get(base_url, params=params)\n",
    "            xml = soup(r.content)\n",
    "            records = xml.find_all('record')\n",
    "            for record in records:\n",
    "                files = record.find('mets:filegrp', {'use':'DEFAULT'}).find_all('mets:flocat', {'loctype': 'URL'})\n",
    "                if len(files) % 2 == 0: # gerade\n",
    "                    for file in files[::2]:\n",
    "                        # file_list.append(file['xlink:href'].split('?')[0])\n",
    "                        f.write(file['xlink:href'].split('?')[0])\n",
    "                        f.write('\\n')\n",
    "                else:\n",
    "                    for file in files[:-1:2]:\n",
    "                        # file_list.append(file['xlink:href'].split('?')[0])\n",
    "                        f.write(file['xlink:href'].split('?')[0])\n",
    "                        f.write('\\n')\n",
    "            try:\n",
    "                resumption_token = xml.find('resumptiontoken').string.strip()\n",
    "                print(xml.find('resumptiontoken')['cursor'])\n",
    "            except:\n",
    "                resumption_token = '0'\n",
    "    else:\n",
    "        pass"
   ],
   "outputs": [
    {
     "output_type": "stream",
     "name": "stdout",
     "text": [
      "100\n",
      "150\n",
      "200\n",
      "250\n",
      "300\n",
      "350\n",
      "400\n",
      "450\n",
      "500\n",
      "550\n",
      "600\n",
      "650\n",
      "700\n",
      "750\n",
      "800\n",
      "850\n",
      "900\n",
      "950\n",
      "1000\n",
      "1050\n",
      "1100\n",
      "1150\n",
      "1200\n",
      "1250\n",
      "1300\n",
      "1350\n",
      "1400\n",
      "1450\n",
      "1500\n",
      "1550\n",
      "1600\n",
      "1650\n",
      "1700\n",
      "1750\n",
      "1800\n",
      "1850\n",
      "1900\n",
      "1950\n",
      "2000\n",
      "2050\n",
      "2100\n",
      "2150\n"
     ]
    }
   ],
   "metadata": {}
  },
  {
   "cell_type": "code",
   "execution_count": 36,
   "source": [
    "len(file_list)"
   ],
   "outputs": [
    {
     "output_type": "execute_result",
     "data": {
      "text/plain": [
       "3641"
      ]
     },
     "metadata": {},
     "execution_count": 36
    }
   ],
   "metadata": {}
  },
  {
   "cell_type": "code",
   "execution_count": null,
   "source": [
    "import csv\n",
    "with open('tschichold-list.csv', 'w', newline='') as myfile:\n",
    "     wr = csv.writer(myfile, quoting=csv.QUOTE_ALL)\n",
    "     wr.writerow(file_list)"
   ],
   "outputs": [],
   "metadata": {}
  },
  {
   "cell_type": "code",
   "execution_count": null,
   "source": [],
   "outputs": [],
   "metadata": {}
  }
 ],
 "metadata": {
  "orig_nbformat": 4,
  "language_info": {
   "name": "python",
   "version": "3.8.5",
   "mimetype": "text/x-python",
   "codemirror_mode": {
    "name": "ipython",
    "version": 3
   },
   "pygments_lexer": "ipython3",
   "nbconvert_exporter": "python",
   "file_extension": ".py"
  },
  "kernelspec": {
   "name": "python3",
   "display_name": "Python 3.8.5 64-bit ('anaconda3': virtualenv)"
  },
  "interpreter": {
   "hash": "500e9f379dfc33ce5a29440abeb9db4daee6d18ed4745caa87d0342feb958303"
  }
 },
 "nbformat": 4,
 "nbformat_minor": 2
}