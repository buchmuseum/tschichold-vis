{
 "cells": [
  {
   "cell_type": "code",
   "execution_count": 1,
   "source": [
    "import pandas as pd\n",
    "import altair as alt"
   ],
   "outputs": [],
   "metadata": {}
  },
  {
   "cell_type": "code",
   "execution_count": 55,
   "source": [
    "auftraggeber = pd.read_csv('auftraggeber-neu.csv')"
   ],
   "outputs": [],
   "metadata": {}
  },
  {
   "cell_type": "code",
   "execution_count": 67,
   "source": [
    "geber = auftraggeber.groupby('auftraggeber-per-name').count().sort_values('title', ascending=False).sort_index()\n",
    "geber = geber[['title']]\n",
    "geber.drop('Tschichold', inplace=True)\n",
    "geber = geber[geber['title'] != 1]\n"
   ],
   "outputs": [],
   "metadata": {}
  },
  {
   "cell_type": "code",
   "execution_count": 64,
   "source": [
    "geber.sort_index(inplace=True)"
   ],
   "outputs": [],
   "metadata": {}
  },
  {
   "cell_type": "code",
   "execution_count": 117,
   "source": [
    "auftrag_per = alt.Chart(geber.reset_index()).mark_bar().encode(\n",
    "        alt.Y('auftraggeber-per-name:N', sort='-x', title='Auftraggeber'),\n",
    "        alt.X('title:Q', title='Datensätze'),\n",
    "        tooltip=[alt.Tooltip('auftraggeber-per-name:N', title='Auftraggeber'), alt.Tooltip('title:Q', title='Anzahl')]\n",
    "    )\n",
    "\n",
    "text = auftrag_per.mark_text(\n",
    "    align='left',\n",
    "    baseline='middle',\n",
    "    dx=3  # Nudges text to right so it doesn't appear on top of the bar\n",
    ").encode(\n",
    "    text='title:Q'\n",
    ")\n",
    "\n",
    "diagramm = alt.layer(auftrag_per, text).configure_view(\n",
    "    stroke='transparent'\n",
    ").configure_axis(\n",
    "    domain=False\n",
    ")\n",
    "\n",
    "diagramm"
   ],
   "outputs": [
    {
     "output_type": "execute_result",
     "data": {
      "text/plain": [
       "alt.LayerChart(...)"
      ],
      "text/html": [
       "\n",
       "<div id=\"altair-viz-a9c7f1231bf04ce7a3e993d314ac4943\"></div>\n",
       "<script type=\"text/javascript\">\n",
       "  (function(spec, embedOpt){\n",
       "    let outputDiv = document.currentScript.previousElementSibling;\n",
       "    if (outputDiv.id !== \"altair-viz-a9c7f1231bf04ce7a3e993d314ac4943\") {\n",
       "      outputDiv = document.getElementById(\"altair-viz-a9c7f1231bf04ce7a3e993d314ac4943\");\n",
       "    }\n",
       "    const paths = {\n",
       "      \"vega\": \"https://cdn.jsdelivr.net/npm//vega@5?noext\",\n",
       "      \"vega-lib\": \"https://cdn.jsdelivr.net/npm//vega-lib?noext\",\n",
       "      \"vega-lite\": \"https://cdn.jsdelivr.net/npm//vega-lite@4.8.1?noext\",\n",
       "      \"vega-embed\": \"https://cdn.jsdelivr.net/npm//vega-embed@6?noext\",\n",
       "    };\n",
       "\n",
       "    function loadScript(lib) {\n",
       "      return new Promise(function(resolve, reject) {\n",
       "        var s = document.createElement('script');\n",
       "        s.src = paths[lib];\n",
       "        s.async = true;\n",
       "        s.onload = () => resolve(paths[lib]);\n",
       "        s.onerror = () => reject(`Error loading script: ${paths[lib]}`);\n",
       "        document.getElementsByTagName(\"head\")[0].appendChild(s);\n",
       "      });\n",
       "    }\n",
       "\n",
       "    function showError(err) {\n",
       "      outputDiv.innerHTML = `<div class=\"error\" style=\"color:red;\">${err}</div>`;\n",
       "      throw err;\n",
       "    }\n",
       "\n",
       "    function displayChart(vegaEmbed) {\n",
       "      vegaEmbed(outputDiv, spec, embedOpt)\n",
       "        .catch(err => showError(`Javascript Error: ${err.message}<br>This usually means there's a typo in your chart specification. See the javascript console for the full traceback.`));\n",
       "    }\n",
       "\n",
       "    if(typeof define === \"function\" && define.amd) {\n",
       "      requirejs.config({paths});\n",
       "      require([\"vega-embed\"], displayChart, err => showError(`Error loading script: ${err.message}`));\n",
       "    } else if (typeof vegaEmbed === \"function\") {\n",
       "      displayChart(vegaEmbed);\n",
       "    } else {\n",
       "      loadScript(\"vega\")\n",
       "        .then(() => loadScript(\"vega-lite\"))\n",
       "        .then(() => loadScript(\"vega-embed\"))\n",
       "        .catch(showError)\n",
       "        .then(() => displayChart(vegaEmbed));\n",
       "    }\n",
       "  })({\"config\": {\"view\": {\"continuousWidth\": 400, \"continuousHeight\": 300, \"stroke\": \"transparent\"}, \"axis\": {\"domain\": false}}, \"layer\": [{\"mark\": \"bar\", \"encoding\": {\"tooltip\": [{\"type\": \"nominal\", \"field\": \"auftraggeber-per-name\", \"title\": \"Auftraggeber\"}, {\"type\": \"quantitative\", \"field\": \"title\", \"title\": \"Anzahl\"}], \"x\": {\"type\": \"quantitative\", \"field\": \"title\", \"title\": \"Datens\\u00e4tze\"}, \"y\": {\"type\": \"nominal\", \"field\": \"auftraggeber-per-name\", \"sort\": \"-x\", \"title\": \"Auftraggeber\"}}}, {\"mark\": {\"type\": \"text\", \"align\": \"left\", \"baseline\": \"middle\", \"dx\": 3}, \"encoding\": {\"text\": {\"type\": \"quantitative\", \"field\": \"title\"}, \"tooltip\": [{\"type\": \"nominal\", \"field\": \"auftraggeber-per-name\", \"title\": \"Auftraggeber\"}, {\"type\": \"quantitative\", \"field\": \"title\", \"title\": \"Anzahl\"}], \"x\": {\"type\": \"quantitative\", \"field\": \"title\", \"title\": \"Datens\\u00e4tze\"}, \"y\": {\"type\": \"nominal\", \"field\": \"auftraggeber-per-name\", \"sort\": \"-x\", \"title\": \"Auftraggeber\"}}}], \"data\": {\"name\": \"data-8d4a9d4ca94252651e3e43a4929bb2ac\"}, \"$schema\": \"https://vega.github.io/schema/vega-lite/v4.8.1.json\", \"datasets\": {\"data-8d4a9d4ca94252651e3e43a4929bb2ac\": [{\"auftraggeber-per-name\": \"Arp\", \"title\": 2}, {\"auftraggeber-per-name\": \"Beyeler\", \"title\": 2}, {\"auftraggeber-per-name\": \"Biermann\", \"title\": 4}, {\"auftraggeber-per-name\": \"Braunschweig\", \"title\": 2}, {\"auftraggeber-per-name\": \"Edlich\", \"title\": 2}, {\"auftraggeber-per-name\": \"Fishenden\", \"title\": 5}, {\"auftraggeber-per-name\": \"Galpern\", \"title\": 4}, {\"auftraggeber-per-name\": \"Hebel\", \"title\": 2}, {\"auftraggeber-per-name\": \"Herrmann\", \"title\": 3}, {\"auftraggeber-per-name\": \"Iwaszkiewicz\", \"title\": 2}, {\"auftraggeber-per-name\": \"Kampmann\", \"title\": 2}, {\"auftraggeber-per-name\": \"Lane\", \"title\": 8}, {\"auftraggeber-per-name\": \"Lechner\", \"title\": 3}, {\"auftraggeber-per-name\": \"Lewald\", \"title\": 2}, {\"auftraggeber-per-name\": \"Lindenfeld\", \"title\": 2}, {\"auftraggeber-per-name\": \"Loeb\", \"title\": 2}, {\"auftraggeber-per-name\": \"Majakovskij\", \"title\": 2}, {\"auftraggeber-per-name\": \"Moholy-Nagy\", \"title\": 2}, {\"auftraggeber-per-name\": \"Moyllus\", \"title\": 3}, {\"auftraggeber-per-name\": \"Mu\\u0308ller-Widmann\", \"title\": 2}, {\"auftraggeber-per-name\": \"Norkauer\", \"title\": 4}, {\"auftraggeber-per-name\": \"Poeschel\", \"title\": 2}, {\"auftraggeber-per-name\": \"Reymond\", \"title\": 2}, {\"auftraggeber-per-name\": \"Seddon\", \"title\": 2}, {\"auftraggeber-per-name\": \"Wackernagel\", \"title\": 2}, {\"auftraggeber-per-name\": \"Wasow\", \"title\": 3}, {\"auftraggeber-per-name\": \"Wieynck\", \"title\": 3}]}}, {\"mode\": \"vega-lite\"});\n",
       "</script>"
      ]
     },
     "metadata": {},
     "execution_count": 117
    }
   ],
   "metadata": {}
  },
  {
   "cell_type": "code",
   "execution_count": 80,
   "source": [
    "with open('auftraggeber_personen.html', 'w') as f:\n",
    "    f.write(diagramm.to_html())"
   ],
   "outputs": [],
   "metadata": {}
  },
  {
   "cell_type": "code",
   "execution_count": 71,
   "source": [
    "inst_geber = auftraggeber.groupby('auftraggeber-inst-name').count().sort_values('title', ascending=False).sort_index()\n",
    "inst_geber = inst_geber[['title']]\n",
    "inst_geber = inst_geber[inst_geber['title'] != 1]"
   ],
   "outputs": [],
   "metadata": {}
  },
  {
   "cell_type": "code",
   "execution_count": 118,
   "source": [
    "auftrag_inst = alt.Chart(inst_geber.reset_index()).mark_bar().encode(\n",
    "        alt.Y('auftraggeber-inst-name:N', sort='-x', title='Auftraggeber'),\n",
    "        alt.X('title:Q', title='Datensätze'),\n",
    "        tooltip=[alt.Tooltip('auftraggeber-inst-name:N', title='Auftraggeber'), alt.Tooltip('title:Q', title='Anzahl Datensätze')]\n",
    "    ).transform_window(\n",
    "    rank='rank(title)',\n",
    "    sort=[alt.SortField('title', order='descending')]\n",
    "    ).transform_filter(\n",
    "    (alt.datum.rank < 31))\n",
    "\n",
    "text = auftrag_inst.mark_text(\n",
    "    align='left',\n",
    "    baseline='middle',\n",
    "    dx=3  # Nudges text to right so it doesn't appear on top of the bar\n",
    ").encode(\n",
    "    text='title:Q'\n",
    ")\n",
    "\n",
    "diagramm = alt.layer(auftrag_inst, text).configure_view(\n",
    "    stroke='transparent'\n",
    ").configure_axis(\n",
    "    domain=False\n",
    ")\n",
    "\n",
    "diagramm"
   ],
   "outputs": [
    {
     "output_type": "execute_result",
     "data": {
      "text/plain": [
       "alt.LayerChart(...)"
      ],
      "text/html": [
       "\n",
       "<div id=\"altair-viz-7d6cd4e9cf7444bca8e2c4e429a14a32\"></div>\n",
       "<script type=\"text/javascript\">\n",
       "  (function(spec, embedOpt){\n",
       "    let outputDiv = document.currentScript.previousElementSibling;\n",
       "    if (outputDiv.id !== \"altair-viz-7d6cd4e9cf7444bca8e2c4e429a14a32\") {\n",
       "      outputDiv = document.getElementById(\"altair-viz-7d6cd4e9cf7444bca8e2c4e429a14a32\");\n",
       "    }\n",
       "    const paths = {\n",
       "      \"vega\": \"https://cdn.jsdelivr.net/npm//vega@5?noext\",\n",
       "      \"vega-lib\": \"https://cdn.jsdelivr.net/npm//vega-lib?noext\",\n",
       "      \"vega-lite\": \"https://cdn.jsdelivr.net/npm//vega-lite@4.8.1?noext\",\n",
       "      \"vega-embed\": \"https://cdn.jsdelivr.net/npm//vega-embed@6?noext\",\n",
       "    };\n",
       "\n",
       "    function loadScript(lib) {\n",
       "      return new Promise(function(resolve, reject) {\n",
       "        var s = document.createElement('script');\n",
       "        s.src = paths[lib];\n",
       "        s.async = true;\n",
       "        s.onload = () => resolve(paths[lib]);\n",
       "        s.onerror = () => reject(`Error loading script: ${paths[lib]}`);\n",
       "        document.getElementsByTagName(\"head\")[0].appendChild(s);\n",
       "      });\n",
       "    }\n",
       "\n",
       "    function showError(err) {\n",
       "      outputDiv.innerHTML = `<div class=\"error\" style=\"color:red;\">${err}</div>`;\n",
       "      throw err;\n",
       "    }\n",
       "\n",
       "    function displayChart(vegaEmbed) {\n",
       "      vegaEmbed(outputDiv, spec, embedOpt)\n",
       "        .catch(err => showError(`Javascript Error: ${err.message}<br>This usually means there's a typo in your chart specification. See the javascript console for the full traceback.`));\n",
       "    }\n",
       "\n",
       "    if(typeof define === \"function\" && define.amd) {\n",
       "      requirejs.config({paths});\n",
       "      require([\"vega-embed\"], displayChart, err => showError(`Error loading script: ${err.message}`));\n",
       "    } else if (typeof vegaEmbed === \"function\") {\n",
       "      displayChart(vegaEmbed);\n",
       "    } else {\n",
       "      loadScript(\"vega\")\n",
       "        .then(() => loadScript(\"vega-lite\"))\n",
       "        .then(() => loadScript(\"vega-embed\"))\n",
       "        .catch(showError)\n",
       "        .then(() => displayChart(vegaEmbed));\n",
       "    }\n",
       "  })({\"config\": {\"view\": {\"continuousWidth\": 400, \"continuousHeight\": 300, \"stroke\": \"transparent\"}, \"axis\": {\"domain\": false}}, \"layer\": [{\"mark\": \"bar\", \"encoding\": {\"tooltip\": [{\"type\": \"nominal\", \"field\": \"auftraggeber-inst-name\", \"title\": \"Auftraggeber\"}, {\"type\": \"quantitative\", \"field\": \"title\", \"title\": \"Anzahl Datens\\u00e4tze\"}], \"x\": {\"type\": \"quantitative\", \"field\": \"title\", \"title\": \"Datens\\u00e4tze\"}, \"y\": {\"type\": \"nominal\", \"field\": \"auftraggeber-inst-name\", \"sort\": \"-x\", \"title\": \"Auftraggeber\"}}, \"transform\": [{\"window\": [{\"op\": \"rank\", \"field\": \"title\", \"as\": \"rank\"}], \"sort\": [{\"field\": \"title\", \"order\": \"descending\"}]}, {\"filter\": \"(datum.rank < 31)\"}]}, {\"mark\": {\"type\": \"text\", \"align\": \"left\", \"baseline\": \"middle\", \"dx\": 3}, \"encoding\": {\"text\": {\"type\": \"quantitative\", \"field\": \"title\"}, \"tooltip\": [{\"type\": \"nominal\", \"field\": \"auftraggeber-inst-name\", \"title\": \"Auftraggeber\"}, {\"type\": \"quantitative\", \"field\": \"title\", \"title\": \"Anzahl Datens\\u00e4tze\"}], \"x\": {\"type\": \"quantitative\", \"field\": \"title\", \"title\": \"Datens\\u00e4tze\"}, \"y\": {\"type\": \"nominal\", \"field\": \"auftraggeber-inst-name\", \"sort\": \"-x\", \"title\": \"Auftraggeber\"}}, \"transform\": [{\"window\": [{\"op\": \"rank\", \"field\": \"title\", \"as\": \"rank\"}], \"sort\": [{\"field\": \"title\", \"order\": \"descending\"}]}, {\"filter\": \"(datum.rank < 31)\"}]}], \"data\": {\"name\": \"data-a8aece964065cff14badf672af051d5b\"}, \"$schema\": \"https://vega.github.io/schema/vega-lite/v4.8.1.json\", \"datasets\": {\"data-a8aece964065cff14badf672af051d5b\": [{\"auftraggeber-inst-name\": \"Aargau\", \"title\": 2}, {\"auftraggeber-inst-name\": \"Ad. Engler & Cie\", \"title\": 3}, {\"auftraggeber-inst-name\": \"Akademischer Verlag Dr. Fritz Wedekind\", \"title\": 7}, {\"auftraggeber-inst-name\": \"Allgemeine Gewerbeschule\", \"title\": 9}, {\"auftraggeber-inst-name\": \"Art. Institut Orell Fu\\u0308ssli\", \"title\": 3}, {\"auftraggeber-inst-name\": \"Atelier fu\\u0308r buchgewerbliche Herstellung Ernst Kellner\", \"title\": 2}, {\"auftraggeber-inst-name\": \"B. G. Teubner\", \"title\": 2}, {\"auftraggeber-inst-name\": \"Basel-Stadt\", \"title\": 7}, {\"auftraggeber-inst-name\": \"Bayerische Staatstheater\", \"title\": 2}, {\"auftraggeber-inst-name\": \"Bayerischer Kunstgewerbe-Verein\", \"title\": 2}, {\"auftraggeber-inst-name\": \"Benno Schwabe und Co.\", \"title\": 15}, {\"auftraggeber-inst-name\": \"Benteli Verlag\", \"title\": 3}, {\"auftraggeber-inst-name\": \"Bibliographisches Institut\", \"title\": 2}, {\"auftraggeber-inst-name\": \"Bildungsverband der Deutschen Buchdrucker\", \"title\": 10}, {\"auftraggeber-inst-name\": \"Birkha\\u0308user\", \"title\": 218}, {\"auftraggeber-inst-name\": \"British Museum\", \"title\": 2}, {\"auftraggeber-inst-name\": \"Buchdruckerei Benteli AG\", \"title\": 2}, {\"auftraggeber-inst-name\": \"Buchdruckerei Franz Eggert\", \"title\": 2}, {\"auftraggeber-inst-name\": \"Buchdruckerei Karl Werner\", \"title\": 2}, {\"auftraggeber-inst-name\": \"Bucherer, Kurrus & Co., Papiere en gros\", \"title\": 40}, {\"auftraggeber-inst-name\": \"Bund Deutscher Gebrauchsgraphiker\", \"title\": 2}, {\"auftraggeber-inst-name\": \"Burg-Verlag\", \"title\": 11}, {\"auftraggeber-inst-name\": \"Bu\\u0308cherkreis\", \"title\": 13}, {\"auftraggeber-inst-name\": \"Chocolats Fjord, Genf\", \"title\": 4}, {\"auftraggeber-inst-name\": \"Container Corporation of America\", \"title\": 5}, {\"auftraggeber-inst-name\": \"Deutsche Werksta\\u0308tten\", \"title\": 2}, {\"auftraggeber-inst-name\": \"Deutscher Buchgewerbeverein\", \"title\": 4}, {\"auftraggeber-inst-name\": \"Dietrich Reimer\", \"title\": 6}, {\"auftraggeber-inst-name\": \"Doktor Ernst Hauswedell und Co.\", \"title\": 3}, {\"auftraggeber-inst-name\": \"Dr.-Cantz'sche Druckerei\", \"title\": 3}, {\"auftraggeber-inst-name\": \"Emil Birkha\\u0308user & Cie\", \"title\": 2}, {\"auftraggeber-inst-name\": \"Emil Gerasch GmbH\", \"title\": 7}, {\"auftraggeber-inst-name\": \"Eugen-Rentsch-Verlag\", \"title\": 11}, {\"auftraggeber-inst-name\": \"Euphorion Verlag\", \"title\": 2}, {\"auftraggeber-inst-name\": \"F. Bruckmann\", \"title\": 4}, {\"auftraggeber-inst-name\": \"Fischer & Wittig\", \"title\": 12}, {\"auftraggeber-inst-name\": \"Franz Haniel & Cie. GmbH\", \"title\": 3}, {\"auftraggeber-inst-name\": \"Freunde Alter Musik in Basel\", \"title\": 11}, {\"auftraggeber-inst-name\": \"Fritz Knorr Buchdruckerei\", \"title\": 2}, {\"auftraggeber-inst-name\": \"Gasser und Cie., AG\", \"title\": 3}, {\"auftraggeber-inst-name\": \"Gebr. Opacher Ab., Mu\\u0308nchen\", \"title\": 3}, {\"auftraggeber-inst-name\": \"Georg-Rentsch-So\\u0308hne\", \"title\": 11}, {\"auftraggeber-inst-name\": \"Gesellschaft fu\\u0308r Chemische Industrie in Basel\", \"title\": 9}, {\"auftraggeber-inst-name\": \"Gesellschaft zur Befo\\u0308rderung des Guten und Gemeinnu\\u0308tzigen Basel\", \"title\": 2}, {\"auftraggeber-inst-name\": \"Gewerbemuseum Basel\", \"title\": 11}, {\"auftraggeber-inst-name\": \"Goldschmidt Basel AG\", \"title\": 2}, {\"auftraggeber-inst-name\": \"Gotthelf-Verlag\", \"title\": 2}, {\"auftraggeber-inst-name\": \"Graphia Hans Gundlach GmbH\", \"title\": 2}, {\"auftraggeber-inst-name\": \"Hahnemu\\u0308hle\", \"title\": 2}, {\"auftraggeber-inst-name\": \"Heinrich Majer Verlag\", \"title\": 14}, {\"auftraggeber-inst-name\": \"Helbing & Lichtenhahn\", \"title\": 2}, {\"auftraggeber-inst-name\": \"Holbein-Verlag\", \"title\": 80}, {\"auftraggeber-inst-name\": \"Insel Verlag Anton Kippenberg Leipzig\", \"title\": 5}, {\"auftraggeber-inst-name\": \"Insel Verlag Anton Kippenberg, Leipzig\", \"title\": 43}, {\"auftraggeber-inst-name\": \"Interavia SA\", \"title\": 11}, {\"auftraggeber-inst-name\": \"J. G. Schelter & Giesecke\", \"title\": 2}, {\"auftraggeber-inst-name\": \"Josef-Stocker-AG\", \"title\": 20}, {\"auftraggeber-inst-name\": \"Karl-Schnabel-Verlag\", \"title\": 4}, {\"auftraggeber-inst-name\": \"Klinkhardt & Biermann\", \"title\": 2}, {\"auftraggeber-inst-name\": \"Klinkhardt & Biermann Verlagsbuchhandlung GmbH\", \"title\": 3}, {\"auftraggeber-inst-name\": \"Klo\\u0308ckner & Co.\", \"title\": 3}, {\"auftraggeber-inst-name\": \"Kunsthalle Basel\", \"title\": 3}, {\"auftraggeber-inst-name\": \"Kunstmuseum Basel\", \"title\": 2}, {\"auftraggeber-inst-name\": \"Kurt Bertolf & Cie\", \"title\": 2}, {\"auftraggeber-inst-name\": \"Kurt Wolff Verlag\", \"title\": 2}, {\"auftraggeber-inst-name\": \"Lehrmittelverlag des Erziehungsdepartements\", \"title\": 4}, {\"auftraggeber-inst-name\": \"Leipziger Messeamt\", \"title\": 11}, {\"auftraggeber-inst-name\": \"Leipziger Werbedienst Reklamezentrale der Mustermessen GmbH\", \"title\": 4}, {\"auftraggeber-inst-name\": \"Lettergieterij \\\"Amsterdam\\\"\", \"title\": 3}, {\"auftraggeber-inst-name\": \"Meisterschule fu\\u0308r Deutschlands Buchdrucker\", \"title\": 8}, {\"auftraggeber-inst-name\": \"Morf & Co\", \"title\": 3}, {\"auftraggeber-inst-name\": \"Musik-Akademie\", \"title\": 4}, {\"auftraggeber-inst-name\": \"Musik-Akademie Basel\", \"title\": 16}, {\"auftraggeber-inst-name\": \"Mu\\u0308ller & Kiepenheuer Verlag\", \"title\": 2}, {\"auftraggeber-inst-name\": \"Mu\\u0308nchen\", \"title\": 11}, {\"auftraggeber-inst-name\": \"Mu\\u0308nchner Bund\", \"title\": 6}, {\"auftraggeber-inst-name\": \"N. V. vh. J. F. Duawer & Zonen\", \"title\": 3}, {\"auftraggeber-inst-name\": \"Niels Kampmann Verlag\", \"title\": 2}, {\"auftraggeber-inst-name\": \"Office du Livre\", \"title\": 8}, {\"auftraggeber-inst-name\": \"Offizin Chr. Scheufele\", \"title\": 2}, {\"auftraggeber-inst-name\": \"Offizin Gebru\\u0308der Fretz\", \"title\": 15}, {\"auftraggeber-inst-name\": \"Otto-Blersch-Verlag\", \"title\": 6}, {\"auftraggeber-inst-name\": \"Otto-Maier-Verlag\", \"title\": 10}, {\"auftraggeber-inst-name\": \"Penguin Books\", \"title\": 203}, {\"auftraggeber-inst-name\": \"Percy Lund, Humphries and Co.\", \"title\": 19}, {\"auftraggeber-inst-name\": \"Phoebus-Palast\", \"title\": 15}, {\"auftraggeber-inst-name\": \"Poeschel & Trepte\", \"title\": 6}, {\"auftraggeber-inst-name\": \"Rascher und Cie.\", \"title\": 2}, {\"auftraggeber-inst-name\": \"Ravensburger Buchverlag Otto Maier\", \"title\": 11}, {\"auftraggeber-inst-name\": \"Reinhold Publishing Corporation\", \"title\": 8}, {\"auftraggeber-inst-name\": \"Rentsch AG\", \"title\": 3}, {\"auftraggeber-inst-name\": \"Schola Cantorum Basiliensis\", \"title\": 5}, {\"auftraggeber-inst-name\": \"Schriftguss AG\", \"title\": 3}, {\"auftraggeber-inst-name\": \"Schwabe & Co.\", \"title\": 46}, {\"auftraggeber-inst-name\": \"Schweizerische Akademie der Medizinischen Wissenschaften\", \"title\": 4}, {\"auftraggeber-inst-name\": \"Schweizerischer Buchha\\u0308ndler- und Verlegerverein\", \"title\": 2}, {\"auftraggeber-inst-name\": \"Schweizerischer Buchha\\u0308ndlerverein & Verein Schweizerischer Verlagsbuchha\\u0308ndler & Socie\\u0301te\\u0301 des libraires et e\\u0301diteurs de la Suisse romande\", \"title\": 4}, {\"auftraggeber-inst-name\": \"Schweizerischer Reklame-Verband\", \"title\": 2}, {\"auftraggeber-inst-name\": \"Schweizerischer Typographenbund\", \"title\": 10}, {\"auftraggeber-inst-name\": \"Schweizerisches Vereinssortiment\", \"title\": 6}, {\"auftraggeber-inst-name\": \"Sta\\u0308dtische Gewerbeschule an der Pranckhstra\\u00dfe\", \"title\": 2}, {\"auftraggeber-inst-name\": \"Sta\\u0308dtische Gewerbeschule an der Westenriederstra\\u00dfe\", \"title\": 2}, {\"auftraggeber-inst-name\": \"Suter, Joerin und Co.\", \"title\": 2}, {\"auftraggeber-inst-name\": \"Su\\u0308ddeutsche Holzwirtschaftsbank\", \"title\": 2}, {\"auftraggeber-inst-name\": \"Su\\u0308dkurier GmbH\", \"title\": 3}, {\"auftraggeber-inst-name\": \"Testor Treuhand AG\", \"title\": 10}, {\"auftraggeber-inst-name\": \"UNS-Bu\\u0308cherstube\", \"title\": 3}, {\"auftraggeber-inst-name\": \"Uhertype AG\", \"title\": 26}, {\"auftraggeber-inst-name\": \"Verband Schweizerischer Grafiker\", \"title\": 2}, {\"auftraggeber-inst-name\": \"Verein Gute Schriften\", \"title\": 7}, {\"auftraggeber-inst-name\": \"Verkehrsverband Mu\\u0308nchen und Su\\u0308dbayern (Bayer. und Allga\\u0308uer Alpen)\", \"title\": 2}, {\"auftraggeber-inst-name\": \"Verlag F. A. C. Prestel\", \"title\": 8}, {\"auftraggeber-inst-name\": \"Verlag Lambert Schneider\", \"title\": 18}, {\"auftraggeber-inst-name\": \"Verlag der Kunst\", \"title\": 5}, {\"auftraggeber-inst-name\": \"Verlag des Druckhauses Tempelhof. Vorm. Deutscher Verlag Berlin\", \"title\": 7}, {\"auftraggeber-inst-name\": \"Verlagsanstalt Benziger\", \"title\": 2}, {\"auftraggeber-inst-name\": \"Verlagsgesellschaft Beobachter\", \"title\": 5}, {\"auftraggeber-inst-name\": \"Volkshochschule Basel\", \"title\": 4}, {\"auftraggeber-inst-name\": \"Wegweiser-Verlag\", \"title\": 3}, {\"auftraggeber-inst-name\": \"Wepf & Co.\", \"title\": 3}, {\"auftraggeber-inst-name\": \"Wydawnictwo Philobiblon\", \"title\": 21}, {\"auftraggeber-inst-name\": \"Zollikofer & Co.\", \"title\": 3}]}}, {\"mode\": \"vega-lite\"});\n",
       "</script>"
      ]
     },
     "metadata": {},
     "execution_count": 118
    }
   ],
   "metadata": {}
  },
  {
   "cell_type": "code",
   "execution_count": 95,
   "source": [
    "with open('auftraggeber_inst.html', 'w') as f:\n",
    "    f.write(diagramm.to_html())"
   ],
   "outputs": [],
   "metadata": {}
  },
  {
   "cell_type": "code",
   "execution_count": 46,
   "source": [
    "entstehungsorte = pd.read_csv('entstehungsorte.csv')\n",
    "orte = pd.read_csv('orte-geo.csv')"
   ],
   "outputs": [],
   "metadata": {}
  },
  {
   "cell_type": "code",
   "execution_count": 48,
   "source": [
    "import geopy.geocoders as geo\n",
    "from geopy.extra.rate_limiter import RateLimiter\n",
    "geolocator = geo.Nominatim(user_agent='rundschreiben')\n",
    "geo.options.default_timeout = 10\n",
    "geocode = RateLimiter(geolocator.geocode, min_delay_seconds=.5)\n"
   ],
   "outputs": [],
   "metadata": {}
  },
  {
   "cell_type": "code",
   "execution_count": 49,
   "source": [
    "orte['location'] = orte['ort-name'].apply(geocode)\n",
    "orte['lat'] = orte['location'].apply(lambda loc: loc.latitude if loc else None)\n",
    "orte['lon'] = orte['location'].apply(lambda loc: loc.longitude if loc else None)"
   ],
   "outputs": [],
   "metadata": {}
  },
  {
   "cell_type": "code",
   "execution_count": 51,
   "source": [
    "orte.to_csv('orte-geo-koord.csv', index=None)"
   ],
   "outputs": [],
   "metadata": {}
  },
  {
   "cell_type": "code",
   "execution_count": 53,
   "source": [
    "entstehungsorte = entstehungsorte.merge(orte, on='ort-name')"
   ],
   "outputs": [],
   "metadata": {}
  },
  {
   "cell_type": "code",
   "execution_count": 68,
   "source": [
    "ort_anzahl = pd.DataFrame(entstehungsorte.value_counts(['ort-name']).reset_index())\n",
    "ort_anzahl.columns = ['ort-name','n']"
   ],
   "outputs": [],
   "metadata": {}
  },
  {
   "cell_type": "code",
   "execution_count": 72,
   "source": [
    "orte_fin = orte.merge(ort_anzahl, on='ort-name')"
   ],
   "outputs": [],
   "metadata": {}
  },
  {
   "cell_type": "code",
   "execution_count": 117,
   "source": [
    "import pydeck as pdk\n",
    "#Karte\n",
    "INITIAL_VIEW_STATE = pdk.ViewState(\n",
    "    latitude=50.67877877706058,\n",
    "    longitude=8.129981238464392,\n",
    "    zoom=4.5,\n",
    "    max_zoom=16,\n",
    "    bearing=0,\n",
    "    )\n",
    "\n",
    "scatterplotlayer = pdk.Layer(\n",
    "    \"ScatterplotLayer\",\n",
    "    orte_fin[['ort-name','lat','lon','n']],\n",
    "    pickable=True,\n",
    "    opacity=0.5,\n",
    "    stroked=True,\n",
    "    filled=True,\n",
    "    radius_min_pixels=2,\n",
    "    line_width_min_pixels=1,\n",
    "    get_position='[lon, lat]',\n",
    "    get_radius=\"n*50\",\n",
    "    get_fill_color=[255, 140, 0],\n",
    "    get_line_color=[0, 0, 0],\n",
    ")\n",
    "\n",
    "r = pdk.Deck(\n",
    "    scatterplotlayer,\n",
    "    initial_view_state=INITIAL_VIEW_STATE,\n",
    "    map_style=pdk.map_styles.LIGHT\n",
    ")"
   ],
   "outputs": [],
   "metadata": {}
  },
  {
   "cell_type": "code",
   "execution_count": 109,
   "source": [
    "r.to_html()"
   ],
   "outputs": [
    {
     "output_type": "execute_result",
     "data": {
      "text/plain": [
       "<IPython.core.display.HTML object>"
      ],
      "text/html": [
       "<iframe src=\"about:blank\" frameborder=\"0\" srcdoc=\"&lt;!DOCTYPE html&gt;\n",
       "&lt;html&gt;\n",
       "  &lt;head&gt;\n",
       "    &lt;meta http-equiv=&quot;content-type&quot; content=&quot;text/html; charset=UTF-8&quot; /&gt;\n",
       "    &lt;title&gt;pydeck&lt;/title&gt;\n",
       "        &lt;script src=&quot;https://api.tiles.mapbox.com/mapbox-gl-js/v1.13.0/mapbox-gl.js&quot;&gt;&lt;/script&gt;\n",
       "        &lt;link rel=&quot;stylesheet&quot; href=&quot;https://maxcdn.bootstrapcdn.com/bootstrap/3.2.0/css/bootstrap-theme.min.css&quot; /&gt;\n",
       "    &lt;link rel=&quot;stylesheet&quot; href=&quot;https://maxcdn.bootstrapcdn.com/font-awesome/4.6.3/css/font-awesome.min.css&quot; /&gt;\n",
       "    &lt;script src=&#x27;https://cdn.jsdelivr.net/npm/@deck.gl/jupyter-widget@~8.4.*/dist/index.js&#x27;&gt;&lt;/script&gt;\n",
       "    &lt;style&gt;\n",
       "    body {\n",
       "  margin: 0;\n",
       "  padding: 0;\n",
       "  overflow: hidden;\n",
       "}\n",
       "\n",
       "#deck-map-container {\n",
       "  width: 100%;\n",
       "  height: 100%;\n",
       "  background-color: black;\n",
       "}\n",
       "\n",
       "#map {\n",
       "  pointer-events: none;\n",
       "  height: 100%;\n",
       "  width: 100%;\n",
       "  position: absolute;\n",
       "  z-index: 1;\n",
       "}\n",
       "\n",
       "#deckgl-overlay {\n",
       "  z-index: 2;\n",
       "  background: none;\n",
       "}\n",
       "\n",
       "#deck-map-wrapper {\n",
       "  width: 100%;\n",
       "  height: 100%;\n",
       "}\n",
       "\n",
       "#deck-container {\n",
       "  width: 100vw;\n",
       "  height: 100vh;\n",
       "}\n",
       "    &lt;/style&gt;\n",
       "  &lt;/head&gt;\n",
       "  &lt;body&gt;\n",
       "    &lt;div id=&quot;deck-container&quot;&gt;\n",
       "    &lt;/div&gt;\n",
       "  &lt;/body&gt;\n",
       "  &lt;script&gt;\n",
       "    const jsonInput = {&quot;initialViewState&quot;: {&quot;bearing&quot;: 0, &quot;latitude&quot;: 50.67877877706058, &quot;longitude&quot;: 8.129981238464392, &quot;maxZoom&quot;: 16, &quot;zoom&quot;: 4.5}, &quot;layers&quot;: [{&quot;@@type&quot;: &quot;ScatterplotLayer&quot;, &quot;data&quot;: [{&quot;lat&quot;: 46.2017029, &quot;lon&quot;: 8.6580917, &quot;n&quot;: 92}, {&quot;lat&quot;: 47.5581077, &quot;lon&quot;: 7.5878261, &quot;n&quot;: 1122}, {&quot;lat&quot;: 47.3496571, &quot;lon&quot;: 7.903787, &quot;n&quot;: 10}, {&quot;lat&quot;: 47.4824633, &quot;lon&quot;: 8.2085662, &quot;n&quot;: 2}, {&quot;lat&quot;: 52.5170365, &quot;lon&quot;: 13.3888599, &quot;n&quot;: 50}, {&quot;lat&quot;: 51.4889317, &quot;lon&quot;: -0.4755435, &quot;n&quot;: 221}, {&quot;lat&quot;: 48.1371079, &quot;lon&quot;: 11.5753822, &quot;n&quot;: 233}, {&quot;lat&quot;: 50.1106444, &quot;lon&quot;: 8.6820917, &quot;n&quot;: 16}, {&quot;lat&quot;: 51.3406321, &quot;lon&quot;: 12.3747329, &quot;n&quot;: 238}, {&quot;lat&quot;: 51.0493286, &quot;lon&quot;: 13.7381437, &quot;n&quot;: 11}, {&quot;lat&quot;: 48.7784485, &quot;lon&quot;: 9.1800132, &quot;n&quot;: 8}, {&quot;lat&quot;: 51.5073219, &quot;lon&quot;: -0.1276474, &quot;n&quot;: 29}, {&quot;lat&quot;: 52.0191005, &quot;lon&quot;: 8.531007, &quot;n&quot;: 1}, {&quot;lat&quot;: 48.3565749, &quot;lon&quot;: 7.3194249, &quot;n&quot;: 3}, {&quot;lat&quot;: 47.3744489, &quot;lon&quot;: 8.5410422, &quot;n&quot;: 28}, {&quot;lat&quot;: 48.8048828, &quot;lon&quot;: 9.2146797, &quot;n&quot;: 2}, {&quot;lat&quot;: 48.5236164, &quot;lon&quot;: 9.0535531, &quot;n&quot;: 13}, {&quot;lat&quot;: 46.8055656, &quot;lon&quot;: 7.1612669, &quot;n&quot;: 1}, {&quot;lat&quot;: 53.550341, &quot;lon&quot;: 10.000654, &quot;n&quot;: 7}, {&quot;lat&quot;: 46.5218269, &quot;lon&quot;: 6.6327025, &quot;n&quot;: 5}, {&quot;lat&quot;: 49.4093582, &quot;lon&quot;: 8.694724, &quot;n&quot;: 5}, {&quot;lat&quot;: 47.659216, &quot;lon&quot;: 9.1750718, &quot;n&quot;: 1}, {&quot;lat&quot;: 47.4839723, &quot;lon&quot;: 7.7347783, &quot;n&quot;: 1}, {&quot;lat&quot;: 47.7811014, &quot;lon&quot;: 9.612468, &quot;n&quot;: 3}, {&quot;lat&quot;: 50.0820384, &quot;lon&quot;: 8.2416556, &quot;n&quot;: 2}, {&quot;lat&quot;: 47.1286095, &quot;lon&quot;: 8.7500299, &quot;n&quot;: 3}, {&quot;lat&quot;: 47.4250593, &quot;lon&quot;: 9.3765878, &quot;n&quot;: 3}, {&quot;lat&quot;: 48.5711277, &quot;lon&quot;: -97.1780148, &quot;n&quot;: 1}, {&quot;lat&quot;: 47.0505452, &quot;lon&quot;: 8.3054682, &quot;n&quot;: 15}, {&quot;lat&quot;: 46.9482713, &quot;lon&quot;: 7.4514512, &quot;n&quot;: 5}, {&quot;lat&quot;: 46.9393277, &quot;lon&quot;: 7.4043817, &quot;n&quot;: 1}, {&quot;lat&quot;: 52.624056, &quot;lon&quot;: 10.081052, &quot;n&quot;: 4}, {&quot;lat&quot;: 52.3727598, &quot;lon&quot;: 4.8936041, &quot;n&quot;: 4}, {&quot;lat&quot;: 53.7944229, &quot;lon&quot;: -1.7519186, &quot;n&quot;: 2}, {&quot;lat&quot;: 59.3251172, &quot;lon&quot;: 18.0710935, &quot;n&quot;: 1}, {&quot;lat&quot;: 49.3295535, &quot;lon&quot;: 11.0195132, &quot;n&quot;: 1}, {&quot;lat&quot;: 47.5816927, &quot;lon&quot;: 7.6479737, &quot;n&quot;: 1}, {&quot;lat&quot;: NaN, &quot;lon&quot;: NaN, &quot;n&quot;: 1}, {&quot;lat&quot;: 48.2083537, &quot;lon&quot;: 16.3725042, &quot;n&quot;: 1}, {&quot;lat&quot;: 52.3744779, &quot;lon&quot;: 9.7385532, &quot;n&quot;: 1}, {&quot;lat&quot;: 52.2319581, &quot;lon&quot;: 21.0067249, &quot;n&quot;: 13}, {&quot;lat&quot;: 51.3441994, &quot;lon&quot;: 12.4438271, &quot;n&quot;: 1}, {&quot;lat&quot;: 49.5748582, &quot;lon&quot;: 6.5750795, &quot;n&quot;: 1}], &quot;filled&quot;: true, &quot;getFillColor&quot;: [255, 140, 0], &quot;getLineColor&quot;: [0, 0, 0], &quot;getPosition&quot;: &quot;@@=[lon, lat]&quot;, &quot;getRadius&quot;: &quot;@@=n*50&quot;, &quot;id&quot;: &quot;b1a56138-42f9-4d05-9317-0420323c2009&quot;, &quot;lineWidthMinPixels&quot;: 1, &quot;opacity&quot;: 0.5, &quot;pickable&quot;: true, &quot;radiusMinPixels&quot;: 2, &quot;stroked&quot;: true}], &quot;mapProvider&quot;: &quot;carto&quot;, &quot;mapStyle&quot;: &quot;https://basemaps.cartocdn.com/gl/positron-gl-style/style.json&quot;, &quot;views&quot;: [{&quot;@@type&quot;: &quot;MapView&quot;, &quot;controller&quot;: true}]};\n",
       "    const tooltip = true;\n",
       "    const customLibraries = null;\n",
       "\n",
       "    const deckInstance = createDeck({\n",
       "                  container: document.getElementById(&#x27;deck-container&#x27;),\n",
       "      jsonInput,\n",
       "      tooltip,\n",
       "      customLibraries\n",
       "    });\n",
       "\n",
       "  &lt;/script&gt;\n",
       "&lt;/html&gt;\" width=\"100%\" height=500></iframe>"
      ]
     },
     "metadata": {},
     "execution_count": 109
    }
   ],
   "metadata": {}
  },
  {
   "cell_type": "code",
   "execution_count": 96,
   "source": [
    "objektgattungen = pd.read_csv('objektgattungen.csv')\n",
    "gattungen = objektgattungen.groupby('idn').first().groupby('ts').count().reset_index()"
   ],
   "outputs": [],
   "metadata": {}
  },
  {
   "cell_type": "code",
   "execution_count": 119,
   "source": [
    "gattungen_chart = alt.Chart(gattungen).mark_bar().encode(\n",
    "        alt.Y('ts:N', sort='-x', title='Gattung'),\n",
    "        alt.X('title:Q', title='Datensätze'),\n",
    "        tooltip=[alt.Tooltip('ts:N', title='Gattung'), alt.Tooltip('title:Q', title='Anzahl Datensätze')]\n",
    "    ).transform_window(\n",
    "    rank='rank(title)',\n",
    "    sort=[alt.SortField('title', order='descending')]\n",
    "    ).transform_filter(\n",
    "    (alt.datum.rank < 35))\n",
    "\n",
    "text = gattungen_chart.mark_text(\n",
    "    align='left',\n",
    "    baseline='middle',\n",
    "    dx=3  # Nudges text to right so it doesn't appear on top of the bar\n",
    ").encode(\n",
    "    text='title:Q'\n",
    ")\n",
    "\n",
    "diagramm = alt.layer(gattungen_chart, text).configure_view(\n",
    "    stroke='transparent'\n",
    ").configure_axis(\n",
    "    domain=False\n",
    ")\n",
    "\n",
    "diagramm"
   ],
   "outputs": [
    {
     "output_type": "execute_result",
     "data": {
      "text/plain": [
       "alt.LayerChart(...)"
      ],
      "text/html": [
       "\n",
       "<div id=\"altair-viz-191ce7dc2a004fc894bb8558410c0bef\"></div>\n",
       "<script type=\"text/javascript\">\n",
       "  (function(spec, embedOpt){\n",
       "    let outputDiv = document.currentScript.previousElementSibling;\n",
       "    if (outputDiv.id !== \"altair-viz-191ce7dc2a004fc894bb8558410c0bef\") {\n",
       "      outputDiv = document.getElementById(\"altair-viz-191ce7dc2a004fc894bb8558410c0bef\");\n",
       "    }\n",
       "    const paths = {\n",
       "      \"vega\": \"https://cdn.jsdelivr.net/npm//vega@5?noext\",\n",
       "      \"vega-lib\": \"https://cdn.jsdelivr.net/npm//vega-lib?noext\",\n",
       "      \"vega-lite\": \"https://cdn.jsdelivr.net/npm//vega-lite@4.8.1?noext\",\n",
       "      \"vega-embed\": \"https://cdn.jsdelivr.net/npm//vega-embed@6?noext\",\n",
       "    };\n",
       "\n",
       "    function loadScript(lib) {\n",
       "      return new Promise(function(resolve, reject) {\n",
       "        var s = document.createElement('script');\n",
       "        s.src = paths[lib];\n",
       "        s.async = true;\n",
       "        s.onload = () => resolve(paths[lib]);\n",
       "        s.onerror = () => reject(`Error loading script: ${paths[lib]}`);\n",
       "        document.getElementsByTagName(\"head\")[0].appendChild(s);\n",
       "      });\n",
       "    }\n",
       "\n",
       "    function showError(err) {\n",
       "      outputDiv.innerHTML = `<div class=\"error\" style=\"color:red;\">${err}</div>`;\n",
       "      throw err;\n",
       "    }\n",
       "\n",
       "    function displayChart(vegaEmbed) {\n",
       "      vegaEmbed(outputDiv, spec, embedOpt)\n",
       "        .catch(err => showError(`Javascript Error: ${err.message}<br>This usually means there's a typo in your chart specification. See the javascript console for the full traceback.`));\n",
       "    }\n",
       "\n",
       "    if(typeof define === \"function\" && define.amd) {\n",
       "      requirejs.config({paths});\n",
       "      require([\"vega-embed\"], displayChart, err => showError(`Error loading script: ${err.message}`));\n",
       "    } else if (typeof vegaEmbed === \"function\") {\n",
       "      displayChart(vegaEmbed);\n",
       "    } else {\n",
       "      loadScript(\"vega\")\n",
       "        .then(() => loadScript(\"vega-lite\"))\n",
       "        .then(() => loadScript(\"vega-embed\"))\n",
       "        .catch(showError)\n",
       "        .then(() => displayChart(vegaEmbed));\n",
       "    }\n",
       "  })({\"config\": {\"view\": {\"continuousWidth\": 400, \"continuousHeight\": 300, \"stroke\": \"transparent\"}, \"axis\": {\"domain\": false}}, \"layer\": [{\"mark\": \"bar\", \"encoding\": {\"tooltip\": [{\"type\": \"nominal\", \"field\": \"ts\", \"title\": \"Gattung\"}, {\"type\": \"quantitative\", \"field\": \"title\", \"title\": \"Anzahl Datens\\u00e4tze\"}], \"x\": {\"type\": \"quantitative\", \"field\": \"title\", \"title\": \"Datens\\u00e4tze\"}, \"y\": {\"type\": \"nominal\", \"field\": \"ts\", \"sort\": \"-x\", \"title\": \"Gattung\"}}, \"transform\": [{\"window\": [{\"op\": \"rank\", \"field\": \"title\", \"as\": \"rank\"}], \"sort\": [{\"field\": \"title\", \"order\": \"descending\"}]}, {\"filter\": \"(datum.rank < 35)\"}]}, {\"mark\": {\"type\": \"text\", \"align\": \"left\", \"baseline\": \"middle\", \"dx\": 3}, \"encoding\": {\"text\": {\"type\": \"quantitative\", \"field\": \"title\"}, \"tooltip\": [{\"type\": \"nominal\", \"field\": \"ts\", \"title\": \"Gattung\"}, {\"type\": \"quantitative\", \"field\": \"title\", \"title\": \"Anzahl Datens\\u00e4tze\"}], \"x\": {\"type\": \"quantitative\", \"field\": \"title\", \"title\": \"Datens\\u00e4tze\"}, \"y\": {\"type\": \"nominal\", \"field\": \"ts\", \"sort\": \"-x\", \"title\": \"Gattung\"}}, \"transform\": [{\"window\": [{\"op\": \"rank\", \"field\": \"title\", \"as\": \"rank\"}], \"sort\": [{\"field\": \"title\", \"order\": \"descending\"}]}, {\"filter\": \"(datum.rank < 35)\"}]}], \"data\": {\"name\": \"data-dbf5ced06b89a970d2733da399fa920a\"}, \"$schema\": \"https://vega.github.io/schema/vega-lite/v4.8.1.json\", \"datasets\": {\"data-dbf5ced06b89a970d2733da399fa920a\": [{\"ts\": \"Abschrift\", \"title\": 3, \"ts-idn\": 3}, {\"ts\": \"Abzug\", \"title\": 1, \"ts-idn\": 1}, {\"ts\": \"Akzidenz\", \"title\": 17, \"ts-idn\": 17}, {\"ts\": \"Alphabet\", \"title\": 2, \"ts-idn\": 2}, {\"ts\": \"Anschrift\", \"title\": 3, \"ts-idn\": 3}, {\"ts\": \"Anweisung\", \"title\": 1, \"ts-idn\": 1}, {\"ts\": \"Anzeige\", \"title\": 49, \"ts-idn\": 49}, {\"ts\": \"Aufsatz\", \"title\": 1, \"ts-idn\": 1}, {\"ts\": \"Aufsteller\", \"title\": 4, \"ts-idn\": 4}, {\"ts\": \"Auktionskatalog\", \"title\": 1, \"ts-idn\": 1}, {\"ts\": \"Ausleihe\", \"title\": 1, \"ts-idn\": 1}, {\"ts\": \"Ausstellungsplakat\", \"title\": 5, \"ts-idn\": 5}, {\"ts\": \"Ausweis\", \"title\": 3, \"ts-idn\": 3}, {\"ts\": \"Beilage\", \"title\": 6, \"ts-idn\": 6}, {\"ts\": \"Beispielsammlung\", \"title\": 1, \"ts-idn\": 1}, {\"ts\": \"Beschilderung\", \"title\": 3, \"ts-idn\": 3}, {\"ts\": \"Bestellschein\", \"title\": 12, \"ts-idn\": 12}, {\"ts\": \"Bildliche Darstellung\", \"title\": 1, \"ts-idn\": 1}, {\"ts\": \"Bildplatte\", \"title\": 3, \"ts-idn\": 3}, {\"ts\": \"Brief\", \"title\": 3, \"ts-idn\": 3}, {\"ts\": \"Briefbogen\", \"title\": 115, \"ts-idn\": 115}, {\"ts\": \"Briefkopf\", \"title\": 17, \"ts-idn\": 17}, {\"ts\": \"Briefpapier\", \"title\": 35, \"ts-idn\": 35}, {\"ts\": \"Briefumschlag\", \"title\": 29, \"ts-idn\": 29}, {\"ts\": \"Broschur\", \"title\": 6, \"ts-idn\": 6}, {\"ts\": \"Broschu\\u0308re\", \"title\": 9, \"ts-idn\": 9}, {\"ts\": \"Buch\", \"title\": 14, \"ts-idn\": 14}, {\"ts\": \"Bucheinband\", \"title\": 143, \"ts-idn\": 143}, {\"ts\": \"Buchkunst\", \"title\": 6, \"ts-idn\": 6}, {\"ts\": \"Buchru\\u0308cken\", \"title\": 23, \"ts-idn\": 23}, {\"ts\": \"Buchtitel\", \"title\": 8, \"ts-idn\": 8}, {\"ts\": \"Collage\", \"title\": 1, \"ts-idn\": 1}, {\"ts\": \"Corporate Design\", \"title\": 2, \"ts-idn\": 2}, {\"ts\": \"Dia\", \"title\": 3, \"ts-idn\": 3}, {\"ts\": \"Diplom\", \"title\": 1, \"ts-idn\": 1}, {\"ts\": \"Dokument\", \"title\": 3, \"ts-idn\": 3}, {\"ts\": \"Druckbogen\", \"title\": 4, \"ts-idn\": 4}, {\"ts\": \"Druckschrift\", \"title\": 66, \"ts-idn\": 66}, {\"ts\": \"Druckwerk\", \"title\": 34, \"ts-idn\": 34}, {\"ts\": \"Durchschreibpapier\", \"title\": 1, \"ts-idn\": 1}, {\"ts\": \"Einbanddecke\", \"title\": 2, \"ts-idn\": 2}, {\"ts\": \"Einladungskarte\", \"title\": 5, \"ts-idn\": 5}, {\"ts\": \"Eintrittskarte\", \"title\": 2, \"ts-idn\": 2}, {\"ts\": \"Empfehlungskarte\", \"title\": 21, \"ts-idn\": 21}, {\"ts\": \"Entwurf\", \"title\": 28, \"ts-idn\": 28}, {\"ts\": \"Entwurfszeichnung\", \"title\": 2, \"ts-idn\": 2}, {\"ts\": \"Ernennung\", \"title\": 2, \"ts-idn\": 2}, {\"ts\": \"Etikett\", \"title\": 3, \"ts-idn\": 3}, {\"ts\": \"Exlibris\", \"title\": 38, \"ts-idn\": 38}, {\"ts\": \"Fahne\", \"title\": 6, \"ts-idn\": 6}, {\"ts\": \"Faltblatt\", \"title\": 5, \"ts-idn\": 5}, {\"ts\": \"Festschrift\", \"title\": 1, \"ts-idn\": 1}, {\"ts\": \"Filmplakat\", \"title\": 17, \"ts-idn\": 17}, {\"ts\": \"Filmprogramm\", \"title\": 1, \"ts-idn\": 1}, {\"ts\": \"Firmenzeichen\", \"title\": 59, \"ts-idn\": 59}, {\"ts\": \"Formular\", \"title\": 27, \"ts-idn\": 27}, {\"ts\": \"Fotogramm\", \"title\": 1, \"ts-idn\": 1}, {\"ts\": \"Fotokopie\", \"title\": 2, \"ts-idn\": 2}, {\"ts\": \"Gebrauchsgrafik\", \"title\": 29, \"ts-idn\": 29}, {\"ts\": \"Gedenkblatt\", \"title\": 1, \"ts-idn\": 1}, {\"ts\": \"Gema\\u0308lde\", \"title\": 1, \"ts-idn\": 1}, {\"ts\": \"Gescha\\u0308ftskarte\", \"title\": 3, \"ts-idn\": 3}, {\"ts\": \"Gescha\\u0308ftsunterlage\", \"title\": 2, \"ts-idn\": 2}, {\"ts\": \"Glu\\u0308ckwunsch\", \"title\": 3, \"ts-idn\": 3}, {\"ts\": \"Glu\\u0308ckwunschkarte\", \"title\": 30, \"ts-idn\": 30}, {\"ts\": \"Grabinschrift\", \"title\": 3, \"ts-idn\": 3}, {\"ts\": \"Graphisches Symbol\", \"title\": 3, \"ts-idn\": 3}, {\"ts\": \"Gru\\u00dfkarte\", \"title\": 3, \"ts-idn\": 3}, {\"ts\": \"Handschrift\", \"title\": 1, \"ts-idn\": 1}, {\"ts\": \"Handzettel\", \"title\": 21, \"ts-idn\": 21}, {\"ts\": \"Hausordnung\", \"title\": 1, \"ts-idn\": 1}, {\"ts\": \"Heft\", \"title\": 8, \"ts-idn\": 8}, {\"ts\": \"Heiratsanzeige\", \"title\": 1, \"ts-idn\": 1}, {\"ts\": \"Holzschnitt\", \"title\": 4, \"ts-idn\": 4}, {\"ts\": \"Illustration\", \"title\": 106, \"ts-idn\": 106}, {\"ts\": \"Informationsmaterial\", \"title\": 1, \"ts-idn\": 1}, {\"ts\": \"Initiale\", \"title\": 6, \"ts-idn\": 6}, {\"ts\": \"Kalender\", \"title\": 14, \"ts-idn\": 14}, {\"ts\": \"Kalligraphie\", \"title\": 6, \"ts-idn\": 6}, {\"ts\": \"Kartei\", \"title\": 1, \"ts-idn\": 1}, {\"ts\": \"Klischee\", \"title\": 22, \"ts-idn\": 22}, {\"ts\": \"Kontaktkopie\", \"title\": 1, \"ts-idn\": 1}, {\"ts\": \"Kopie\", \"title\": 2, \"ts-idn\": 2}, {\"ts\": \"Kunstdruck\", \"title\": 1, \"ts-idn\": 1}, {\"ts\": \"Kursive\", \"title\": 1, \"ts-idn\": 1}, {\"ts\": \"Ku\\u0308nstlerbuch\", \"title\": 8, \"ts-idn\": 8}, {\"ts\": \"Layout\", \"title\": 7, \"ts-idn\": 7}, {\"ts\": \"Lichtsatz\", \"title\": 1, \"ts-idn\": 1}, {\"ts\": \"Liste\", \"title\": 1, \"ts-idn\": 1}, {\"ts\": \"Manuskript\", \"title\": 2, \"ts-idn\": 2}, {\"ts\": \"Mappe\", \"title\": 1, \"ts-idn\": 1}, {\"ts\": \"Marke\", \"title\": 3, \"ts-idn\": 3}, {\"ts\": \"Matrize\", \"title\": 4, \"ts-idn\": 4}, {\"ts\": \"Menu\\u0308\", \"title\": 2, \"ts-idn\": 2}, {\"ts\": \"Metallgegenstand\", \"title\": 1, \"ts-idn\": 1}, {\"ts\": \"Mitglied\", \"title\": 2, \"ts-idn\": 2}, {\"ts\": \"Monografische Reihe\", \"title\": 1, \"ts-idn\": 1}, {\"ts\": \"Montage\", \"title\": 2, \"ts-idn\": 2}, {\"ts\": \"Negativ\", \"title\": 4, \"ts-idn\": 4}, {\"ts\": \"Neujahrswunsch\", \"title\": 20, \"ts-idn\": 20}, {\"ts\": \"Notiz\", \"title\": 15, \"ts-idn\": 15}, {\"ts\": \"Ornament\", \"title\": 5, \"ts-idn\": 5}, {\"ts\": \"Papier\", \"title\": 5, \"ts-idn\": 5}, {\"ts\": \"Paratext\", \"title\": 2, \"ts-idn\": 2}, {\"ts\": \"Plakat\", \"title\": 13, \"ts-idn\": 13}, {\"ts\": \"Postkarte\", \"title\": 3, \"ts-idn\": 3}, {\"ts\": \"Postsendung\", \"title\": 13, \"ts-idn\": 13}, {\"ts\": \"Pre-press\", \"title\": 5, \"ts-idn\": 5}, {\"ts\": \"Privatdruck\", \"title\": 1, \"ts-idn\": 1}, {\"ts\": \"Probedruck\", \"title\": 44, \"ts-idn\": 44}, {\"ts\": \"Programmheft\", \"title\": 13, \"ts-idn\": 13}, {\"ts\": \"Prospekt\", \"title\": 24, \"ts-idn\": 24}, {\"ts\": \"Quittung\", \"title\": 1, \"ts-idn\": 1}, {\"ts\": \"Radierung\", \"title\": 1, \"ts-idn\": 1}, {\"ts\": \"Reproduktion\", \"title\": 3, \"ts-idn\": 3}, {\"ts\": \"Satz\", \"title\": 2, \"ts-idn\": 2}, {\"ts\": \"Scheck\", \"title\": 1, \"ts-idn\": 1}, {\"ts\": \"Schild\", \"title\": 1, \"ts-idn\": 1}, {\"ts\": \"Schmalfilm\", \"title\": 1, \"ts-idn\": 1}, {\"ts\": \"Schmutztitel\", \"title\": 4, \"ts-idn\": 4}, {\"ts\": \"Schreibu\\u0308bung\", \"title\": 7, \"ts-idn\": 7}, {\"ts\": \"Schrift\", \"title\": 14, \"ts-idn\": 14}, {\"ts\": \"Schriftprobe\", \"title\": 17, \"ts-idn\": 17}, {\"ts\": \"Schrifttum\", \"title\": 3, \"ts-idn\": 3}, {\"ts\": \"Schuber\", \"title\": 3, \"ts-idn\": 3}, {\"ts\": \"Schulheft\", \"title\": 1, \"ts-idn\": 1}, {\"ts\": \"Schulzeugnis\", \"title\": 1, \"ts-idn\": 1}, {\"ts\": \"Schutzumschlag\", \"title\": 143, \"ts-idn\": 143}, {\"ts\": \"Seite\", \"title\": 16, \"ts-idn\": 16}, {\"ts\": \"Siegel\", \"title\": 1, \"ts-idn\": 1}, {\"ts\": \"Skizze\", \"title\": 20, \"ts-idn\": 20}, {\"ts\": \"Skizzenbuch\", \"title\": 4, \"ts-idn\": 4}, {\"ts\": \"Speisekarte\", \"title\": 1, \"ts-idn\": 1}, {\"ts\": \"Stadtwappen\", \"title\": 1, \"ts-idn\": 1}, {\"ts\": \"Stempel\", \"title\": 3, \"ts-idn\": 3}, {\"ts\": \"Stereotypie\", \"title\": 8, \"ts-idn\": 8}, {\"ts\": \"Studie\", \"title\": 1, \"ts-idn\": 1}, {\"ts\": \"Tafel\", \"title\": 1, \"ts-idn\": 1}, {\"ts\": \"Telegramm\", \"title\": 1, \"ts-idn\": 1}, {\"ts\": \"Text\", \"title\": 3, \"ts-idn\": 3}, {\"ts\": \"Titelblatt\", \"title\": 227, \"ts-idn\": 227}, {\"ts\": \"Titelschild\", \"title\": 33, \"ts-idn\": 33}, {\"ts\": \"Titelseite\", \"title\": 9, \"ts-idn\": 9}, {\"ts\": \"Tu\\u0308rschild\", \"title\": 1, \"ts-idn\": 1}, {\"ts\": \"Typografie\", \"title\": 7, \"ts-idn\": 7}, {\"ts\": \"Typoskript\", \"title\": 4, \"ts-idn\": 4}, {\"ts\": \"Umschlag\", \"title\": 152, \"ts-idn\": 152}, {\"ts\": \"Unvero\\u0308ffentlichtes Werk\", \"title\": 2, \"ts-idn\": 2}, {\"ts\": \"Urkunde\", \"title\": 8, \"ts-idn\": 8}, {\"ts\": \"U\\u0308berschrift\", \"title\": 4, \"ts-idn\": 4}, {\"ts\": \"Verkaufskatalog\", \"title\": 1, \"ts-idn\": 1}, {\"ts\": \"Verlagsprogramm\", \"title\": 3, \"ts-idn\": 3}, {\"ts\": \"Verlegermarke\", \"title\": 35, \"ts-idn\": 35}, {\"ts\": \"Verlo\\u0308bnis\", \"title\": 1, \"ts-idn\": 1}, {\"ts\": \"Verpackung\", \"title\": 1, \"ts-idn\": 1}, {\"ts\": \"Versand\", \"title\": 1, \"ts-idn\": 1}, {\"ts\": \"Visitenkarte\", \"title\": 12, \"ts-idn\": 12}, {\"ts\": \"Vita\", \"title\": 1, \"ts-idn\": 1}, {\"ts\": \"Wahlplakat\", \"title\": 1, \"ts-idn\": 1}, {\"ts\": \"Wappenschild\", \"title\": 1, \"ts-idn\": 1}, {\"ts\": \"Werbebeilage\", \"title\": 5, \"ts-idn\": 5}, {\"ts\": \"Werbedrucksache\", \"title\": 2, \"ts-idn\": 2}, {\"ts\": \"Werbegrafik\", \"title\": 1, \"ts-idn\": 1}, {\"ts\": \"Werbeplakat\", \"title\": 22, \"ts-idn\": 22}, {\"ts\": \"Werbeschild\", \"title\": 11, \"ts-idn\": 11}, {\"ts\": \"Werbestempel\", \"title\": 2, \"ts-idn\": 2}, {\"ts\": \"Zeitschriftenaufsatz\", \"title\": 7, \"ts-idn\": 7}, {\"ts\": \"Zeitschriftentitel\", \"title\": 1, \"ts-idn\": 1}, {\"ts\": \"Zeitungsausschnitt\", \"title\": 5, \"ts-idn\": 5}, {\"ts\": \"Zeitungskopf\", \"title\": 6, \"ts-idn\": 6}, {\"ts\": \"Zettel\", \"title\": 1, \"ts-idn\": 1}, {\"ts\": \"Zitat\", \"title\": 1, \"ts-idn\": 1}]}}, {\"mode\": \"vega-lite\"});\n",
       "</script>"
      ]
     },
     "metadata": {},
     "execution_count": 119
    }
   ],
   "metadata": {}
  },
  {
   "cell_type": "code",
   "execution_count": 100,
   "source": [
    "with open('gattungen.html', 'w') as f:\n",
    "    f.write(diagramm.to_html())"
   ],
   "outputs": [],
   "metadata": {}
  },
  {
   "cell_type": "code",
   "execution_count": 102,
   "source": [
    "druckschriften = pd.read_csv('druckschriften_kurztitel.csv')"
   ],
   "outputs": [],
   "metadata": {}
  },
  {
   "cell_type": "code",
   "execution_count": 120,
   "source": [
    "druckschriften_chart = alt.Chart(druckschriften).mark_bar().encode(\n",
    "        alt.Y('schrift:N', sort='-x', title='Schrift'),\n",
    "        alt.X('title:Q', title='Datensätze'),\n",
    "        tooltip=[alt.Tooltip('schrift:N', title='Schrift'), alt.Tooltip('title:Q', title='Anzahl Datensätze')]\n",
    "    )\n",
    "\n",
    "text = druckschriften_chart.mark_text(\n",
    "    align='left',\n",
    "    baseline='middle',\n",
    "    dx=3  # Nudges text to right so it doesn't appear on top of the bar\n",
    ").encode(\n",
    "    text='title:Q'\n",
    ")\n",
    "diagramm = alt.layer(druckschriften_chart, text).configure_view(\n",
    "    stroke='transparent'\n",
    ").configure_axis(\n",
    "    domain=False\n",
    ")\n",
    "\n",
    "diagramm"
   ],
   "outputs": [
    {
     "output_type": "execute_result",
     "data": {
      "text/plain": [
       "alt.LayerChart(...)"
      ],
      "text/html": [
       "\n",
       "<div id=\"altair-viz-1b61c241133847b1854751b2f3386219\"></div>\n",
       "<script type=\"text/javascript\">\n",
       "  (function(spec, embedOpt){\n",
       "    let outputDiv = document.currentScript.previousElementSibling;\n",
       "    if (outputDiv.id !== \"altair-viz-1b61c241133847b1854751b2f3386219\") {\n",
       "      outputDiv = document.getElementById(\"altair-viz-1b61c241133847b1854751b2f3386219\");\n",
       "    }\n",
       "    const paths = {\n",
       "      \"vega\": \"https://cdn.jsdelivr.net/npm//vega@5?noext\",\n",
       "      \"vega-lib\": \"https://cdn.jsdelivr.net/npm//vega-lib?noext\",\n",
       "      \"vega-lite\": \"https://cdn.jsdelivr.net/npm//vega-lite@4.8.1?noext\",\n",
       "      \"vega-embed\": \"https://cdn.jsdelivr.net/npm//vega-embed@6?noext\",\n",
       "    };\n",
       "\n",
       "    function loadScript(lib) {\n",
       "      return new Promise(function(resolve, reject) {\n",
       "        var s = document.createElement('script');\n",
       "        s.src = paths[lib];\n",
       "        s.async = true;\n",
       "        s.onload = () => resolve(paths[lib]);\n",
       "        s.onerror = () => reject(`Error loading script: ${paths[lib]}`);\n",
       "        document.getElementsByTagName(\"head\")[0].appendChild(s);\n",
       "      });\n",
       "    }\n",
       "\n",
       "    function showError(err) {\n",
       "      outputDiv.innerHTML = `<div class=\"error\" style=\"color:red;\">${err}</div>`;\n",
       "      throw err;\n",
       "    }\n",
       "\n",
       "    function displayChart(vegaEmbed) {\n",
       "      vegaEmbed(outputDiv, spec, embedOpt)\n",
       "        .catch(err => showError(`Javascript Error: ${err.message}<br>This usually means there's a typo in your chart specification. See the javascript console for the full traceback.`));\n",
       "    }\n",
       "\n",
       "    if(typeof define === \"function\" && define.amd) {\n",
       "      requirejs.config({paths});\n",
       "      require([\"vega-embed\"], displayChart, err => showError(`Error loading script: ${err.message}`));\n",
       "    } else if (typeof vegaEmbed === \"function\") {\n",
       "      displayChart(vegaEmbed);\n",
       "    } else {\n",
       "      loadScript(\"vega\")\n",
       "        .then(() => loadScript(\"vega-lite\"))\n",
       "        .then(() => loadScript(\"vega-embed\"))\n",
       "        .catch(showError)\n",
       "        .then(() => displayChart(vegaEmbed));\n",
       "    }\n",
       "  })({\"config\": {\"view\": {\"continuousWidth\": 400, \"continuousHeight\": 300, \"stroke\": \"transparent\"}, \"axis\": {\"domain\": false}}, \"layer\": [{\"mark\": \"bar\", \"encoding\": {\"tooltip\": [{\"type\": \"nominal\", \"field\": \"schrift\", \"title\": \"Schrift\"}, {\"type\": \"quantitative\", \"field\": \"title\", \"title\": \"Anzahl Datens\\u00e4tze\"}], \"x\": {\"type\": \"quantitative\", \"field\": \"title\", \"title\": \"Datens\\u00e4tze\"}, \"y\": {\"type\": \"nominal\", \"field\": \"schrift\", \"sort\": \"-x\", \"title\": \"Schrift\"}}}, {\"mark\": {\"type\": \"text\", \"align\": \"left\", \"baseline\": \"middle\", \"dx\": 3}, \"encoding\": {\"text\": {\"type\": \"quantitative\", \"field\": \"title\"}, \"tooltip\": [{\"type\": \"nominal\", \"field\": \"schrift\", \"title\": \"Schrift\"}, {\"type\": \"quantitative\", \"field\": \"title\", \"title\": \"Anzahl Datens\\u00e4tze\"}], \"x\": {\"type\": \"quantitative\", \"field\": \"title\", \"title\": \"Datens\\u00e4tze\"}, \"y\": {\"type\": \"nominal\", \"field\": \"schrift\", \"sort\": \"-x\", \"title\": \"Schrift\"}}}], \"data\": {\"name\": \"data-9af5bf991c8919132a46b374e8c7effd\"}, \"$schema\": \"https://vega.github.io/schema/vega-lite/v4.8.1.json\", \"datasets\": {\"data-9af5bf991c8919132a46b374e8c7effd\": [{\"schrift\": \"Antesk\", \"idn\": 1, \"title\": 1}, {\"schrift\": \"Garamond\", \"idn\": 11, \"title\": 11}, {\"schrift\": \"Neue konstruierbare Blockschrift\", \"idn\": 2, \"title\": 2}, {\"schrift\": \"Sabon\", \"idn\": 18, \"title\": 18}, {\"schrift\": \"Saskia\", \"idn\": 4, \"title\": 4}, {\"schrift\": \"Transito\", \"idn\": 6, \"title\": 6}, {\"schrift\": \"Uhertype Antiqua\", \"idn\": 3, \"title\": 3}, {\"schrift\": \"Uhertype Ramses\", \"idn\": 2, \"title\": 2}, {\"schrift\": \"Uhertype Standard-Grotesk\", \"idn\": 22, \"title\": 22}, {\"schrift\": \"Zeus\", \"idn\": 3, \"title\": 3}, {\"schrift\": \"[Konstruierte Grotesk]\", \"idn\": 1, \"title\": 1}, {\"schrift\": \"[Schablonenschrift f\\u00fcr die Stempel AG]\", \"idn\": 3, \"title\": 3}]}}, {\"mode\": \"vega-lite\"});\n",
       "</script>"
      ]
     },
     "metadata": {},
     "execution_count": 120
    }
   ],
   "metadata": {}
  },
  {
   "cell_type": "code",
   "execution_count": 106,
   "source": [
    "with open('druckschriften.html', 'w') as f:\n",
    "    f.write(diagramm.to_html())"
   ],
   "outputs": [],
   "metadata": {}
  },
  {
   "cell_type": "code",
   "execution_count": null,
   "source": [],
   "outputs": [],
   "metadata": {}
  }
 ],
 "metadata": {
  "orig_nbformat": 4,
  "language_info": {
   "name": "python",
   "version": "3.8.5",
   "mimetype": "text/x-python",
   "codemirror_mode": {
    "name": "ipython",
    "version": 3
   },
   "pygments_lexer": "ipython3",
   "nbconvert_exporter": "python",
   "file_extension": ".py"
  },
  "kernelspec": {
   "name": "python3",
   "display_name": "Python 3.8.5 64-bit ('base': conda)"
  },
  "interpreter": {
   "hash": "500e9f379dfc33ce5a29440abeb9db4daee6d18ed4745caa87d0342feb958303"
  }
 },
 "nbformat": 4,
 "nbformat_minor": 2
}