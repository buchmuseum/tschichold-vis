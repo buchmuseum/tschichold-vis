{
 "cells": [
  {
   "cell_type": "code",
   "execution_count": 1,
   "source": [
    "import pandas as pd\n",
    "import altair as alt"
   ],
   "outputs": [],
   "metadata": {}
  },
  {
   "cell_type": "code",
   "execution_count": 2,
   "source": [
    "auftraggeber = pd.read_csv('auftraggeber.csv')"
   ],
   "outputs": [],
   "metadata": {}
  },
  {
   "cell_type": "code",
   "execution_count": 36,
   "source": [
    "auftrag_per = alt.Chart(auftraggeber.groupby('auftraggeber-per-name').count().reset_index()).mark_bar().encode(\n",
    "        alt.X('auftraggeber-per-name:N', sort='-y', title='Auftraggeber'),\n",
    "        alt.Y('title:Q', title='Datensätze'),\n",
    "        alt.Color('auftraggeber-per-name:N', title='Auftraggeber', sort='-y'),\n",
    "        tooltip=[alt.Tooltip('auftraggeber-per-name:N', title='Auftraggeber'), alt.Tooltip('title:Q', title='Anzahl')]\n",
    "    ).transform_window(\n",
    "    rank='rank(title)',\n",
    "    sort=[alt.SortField('title', order='descending')]\n",
    "    ).transform_filter(\n",
    "    (alt.datum.rank < 20))"
   ],
   "outputs": [],
   "metadata": {}
  },
  {
   "cell_type": "code",
   "execution_count": 37,
   "source": [
    "auftrag_per"
   ],
   "outputs": [
    {
     "output_type": "execute_result",
     "data": {
      "text/plain": [
       "<VegaLite 4 object>\n",
       "\n",
       "If you see this message, it means the renderer has not been properly enabled\n",
       "for the frontend that you are using. For more information, see\n",
       "https://altair-viz.github.io/user_guide/troubleshooting.html\n"
      ],
      "application/vnd.vegalite.v4+json": {
       "config": {
        "view": {
         "continuousWidth": 400,
         "continuousHeight": 300
        }
       },
       "data": {
        "name": "data-ab10916fcbc03ab2ffe61661bccb169b"
       },
       "mark": "bar",
       "encoding": {
        "color": {
         "type": "nominal",
         "field": "auftraggeber-per-name",
         "sort": "-y",
         "title": "Auftraggeber"
        },
        "tooltip": [
         {
          "type": "nominal",
          "field": "auftraggeber-per-name",
          "title": "Auftraggeber"
         },
         {
          "type": "quantitative",
          "field": "title",
          "title": "Anzahl"
         }
        ],
        "x": {
         "type": "nominal",
         "field": "auftraggeber-per-name",
         "sort": "-y",
         "title": "Auftraggeber"
        },
        "y": {
         "type": "quantitative",
         "field": "title",
         "title": "Datensätze"
        }
       },
       "transform": [
        {
         "window": [
          {
           "op": "rank",
           "field": "title",
           "as": "rank"
          }
         ],
         "sort": [
          {
           "field": "title",
           "order": "descending"
          }
         ]
        },
        {
         "filter": "(datum.rank < 20)"
        }
       ],
       "$schema": "https://vega.github.io/schema/vega-lite/v4.8.1.json",
       "datasets": {
        "data-ab10916fcbc03ab2ffe61661bccb169b": [
         {
          "auftraggeber-per-name": "Alioth",
          "idn": 1,
          "title": 1,
          "auftraggeber-per-idn": 1,
          "auftraggeber-inst-idn": 0,
          "auftraggeber-inst-name": 0
         },
         {
          "auftraggeber-per-name": "Arp",
          "idn": 2,
          "title": 2,
          "auftraggeber-per-idn": 2,
          "auftraggeber-inst-idn": 1,
          "auftraggeber-inst-name": 1
         },
         {
          "auftraggeber-per-name": "Bauer",
          "idn": 1,
          "title": 1,
          "auftraggeber-per-idn": 1,
          "auftraggeber-inst-idn": 1,
          "auftraggeber-inst-name": 1
         },
         {
          "auftraggeber-per-name": "Baumeister",
          "idn": 1,
          "title": 1,
          "auftraggeber-per-idn": 1,
          "auftraggeber-inst-idn": 1,
          "auftraggeber-inst-name": 1
         },
         {
          "auftraggeber-per-name": "Beigel",
          "idn": 1,
          "title": 1,
          "auftraggeber-per-idn": 1,
          "auftraggeber-inst-idn": 1,
          "auftraggeber-inst-name": 1
         },
         {
          "auftraggeber-per-name": "Beyeler",
          "idn": 2,
          "title": 2,
          "auftraggeber-per-idn": 2,
          "auftraggeber-inst-idn": 1,
          "auftraggeber-inst-name": 1
         },
         {
          "auftraggeber-per-name": "Braunschweig",
          "idn": 2,
          "title": 2,
          "auftraggeber-per-idn": 0,
          "auftraggeber-inst-idn": 0,
          "auftraggeber-inst-name": 0
         },
         {
          "auftraggeber-per-name": "Bruhns",
          "idn": 1,
          "title": 1,
          "auftraggeber-per-idn": 0,
          "auftraggeber-inst-idn": 0,
          "auftraggeber-inst-name": 0
         },
         {
          "auftraggeber-per-name": "Bruhns Marie-Louise",
          "idn": 1,
          "title": 1,
          "auftraggeber-per-idn": 0,
          "auftraggeber-inst-idn": 0,
          "auftraggeber-inst-name": 0
         },
         {
          "auftraggeber-per-name": "Caflisch",
          "idn": 1,
          "title": 1,
          "auftraggeber-per-idn": 1,
          "auftraggeber-inst-idn": 0,
          "auftraggeber-inst-name": 0
         },
         {
          "auftraggeber-per-name": "Chagall",
          "idn": 1,
          "title": 1,
          "auftraggeber-per-idn": 1,
          "auftraggeber-inst-idn": 1,
          "auftraggeber-inst-name": 1
         },
         {
          "auftraggeber-per-name": "Chmelowa",
          "idn": 1,
          "title": 1,
          "auftraggeber-per-idn": 1,
          "auftraggeber-inst-idn": 0,
          "auftraggeber-inst-name": 0
         },
         {
          "auftraggeber-per-name": "Conrad",
          "idn": 1,
          "title": 1,
          "auftraggeber-per-idn": 0,
          "auftraggeber-inst-idn": 1,
          "auftraggeber-inst-name": 1
         },
         {
          "auftraggeber-per-name": "Dr. Horn",
          "idn": 1,
          "title": 1,
          "auftraggeber-per-idn": 0,
          "auftraggeber-inst-idn": 0,
          "auftraggeber-inst-name": 0
         },
         {
          "auftraggeber-per-name": "Dybwad",
          "idn": 1,
          "title": 1,
          "auftraggeber-per-idn": 1,
          "auftraggeber-inst-idn": 0,
          "auftraggeber-inst-name": 0
         },
         {
          "auftraggeber-per-name": "Edlich",
          "idn": 2,
          "title": 2,
          "auftraggeber-per-idn": 0,
          "auftraggeber-inst-idn": 0,
          "auftraggeber-inst-name": 0
         },
         {
          "auftraggeber-per-name": "Ehrendorfer-Skarica",
          "idn": 1,
          "title": 1,
          "auftraggeber-per-idn": 1,
          "auftraggeber-inst-idn": 0,
          "auftraggeber-inst-name": 0
         },
         {
          "auftraggeber-per-name": "Engler",
          "idn": 1,
          "title": 1,
          "auftraggeber-per-idn": 0,
          "auftraggeber-inst-idn": 0,
          "auftraggeber-inst-name": 0
         },
         {
          "auftraggeber-per-name": "Galpern",
          "idn": 4,
          "title": 4,
          "auftraggeber-per-idn": 4,
          "auftraggeber-inst-idn": 1,
          "auftraggeber-inst-name": 1
         },
         {
          "auftraggeber-per-name": "Goldschmidt",
          "idn": 1,
          "title": 1,
          "auftraggeber-per-idn": 1,
          "auftraggeber-inst-idn": 0,
          "auftraggeber-inst-name": 0
         },
         {
          "auftraggeber-per-name": "Gregory",
          "idn": 1,
          "title": 1,
          "auftraggeber-per-idn": 1,
          "auftraggeber-inst-idn": 0,
          "auftraggeber-inst-name": 1
         },
         {
          "auftraggeber-per-name": "Griesinger",
          "idn": 1,
          "title": 1,
          "auftraggeber-per-idn": 1,
          "auftraggeber-inst-idn": 0,
          "auftraggeber-inst-name": 0
         },
         {
          "auftraggeber-per-name": "Haller",
          "idn": 1,
          "title": 1,
          "auftraggeber-per-idn": 0,
          "auftraggeber-inst-idn": 0,
          "auftraggeber-inst-name": 0
         },
         {
          "auftraggeber-per-name": "Hassing",
          "idn": 1,
          "title": 1,
          "auftraggeber-per-idn": 0,
          "auftraggeber-inst-idn": 0,
          "auftraggeber-inst-name": 0
         },
         {
          "auftraggeber-per-name": "Hebel",
          "idn": 2,
          "title": 2,
          "auftraggeber-per-idn": 2,
          "auftraggeber-inst-idn": 2,
          "auftraggeber-inst-name": 2
         },
         {
          "auftraggeber-per-name": "Herrmann",
          "idn": 3,
          "title": 3,
          "auftraggeber-per-idn": 3,
          "auftraggeber-inst-idn": 0,
          "auftraggeber-inst-name": 0
         },
         {
          "auftraggeber-per-name": "Horn",
          "idn": 1,
          "title": 1,
          "auftraggeber-per-idn": 1,
          "auftraggeber-inst-idn": 1,
          "auftraggeber-inst-name": 1
         },
         {
          "auftraggeber-per-name": "Ines M.G. von der Muhll",
          "idn": 1,
          "title": 1,
          "auftraggeber-per-idn": 0,
          "auftraggeber-inst-idn": 1,
          "auftraggeber-inst-name": 1
         },
         {
          "auftraggeber-per-name": "J.J. Brodbeck",
          "idn": 1,
          "title": 1,
          "auftraggeber-per-idn": 0,
          "auftraggeber-inst-idn": 0,
          "auftraggeber-inst-name": 0
         },
         {
          "auftraggeber-per-name": "Kampmann",
          "idn": 2,
          "title": 2,
          "auftraggeber-per-idn": 2,
          "auftraggeber-inst-idn": 0,
          "auftraggeber-inst-name": 0
         },
         {
          "auftraggeber-per-name": "Kauffer",
          "idn": 1,
          "title": 1,
          "auftraggeber-per-idn": 1,
          "auftraggeber-inst-idn": 0,
          "auftraggeber-inst-name": 0
         },
         {
          "auftraggeber-per-name": "Koechly",
          "idn": 1,
          "title": 1,
          "auftraggeber-per-idn": 0,
          "auftraggeber-inst-idn": 0,
          "auftraggeber-inst-name": 0
         },
         {
          "auftraggeber-per-name": "Krauß",
          "idn": 1,
          "title": 1,
          "auftraggeber-per-idn": 0,
          "auftraggeber-inst-idn": 0,
          "auftraggeber-inst-name": 0
         },
         {
          "auftraggeber-per-name": "Krüger",
          "idn": 1,
          "title": 1,
          "auftraggeber-per-idn": 0,
          "auftraggeber-inst-idn": 0,
          "auftraggeber-inst-name": 0
         },
         {
          "auftraggeber-per-name": "Lane",
          "idn": 8,
          "title": 8,
          "auftraggeber-per-idn": 8,
          "auftraggeber-inst-idn": 2,
          "auftraggeber-inst-name": 2
         },
         {
          "auftraggeber-per-name": "Lechner",
          "idn": 3,
          "title": 3,
          "auftraggeber-per-idn": 3,
          "auftraggeber-inst-idn": 0,
          "auftraggeber-inst-name": 0
         },
         {
          "auftraggeber-per-name": "Leutwyler-Reber",
          "idn": 1,
          "title": 1,
          "auftraggeber-per-idn": 0,
          "auftraggeber-inst-idn": 0,
          "auftraggeber-inst-name": 0
         },
         {
          "auftraggeber-per-name": "Levi",
          "idn": 1,
          "title": 1,
          "auftraggeber-per-idn": 0,
          "auftraggeber-inst-idn": 0,
          "auftraggeber-inst-name": 0
         },
         {
          "auftraggeber-per-name": "Lewald",
          "idn": 2,
          "title": 2,
          "auftraggeber-per-idn": 2,
          "auftraggeber-inst-idn": 0,
          "auftraggeber-inst-name": 0
         },
         {
          "auftraggeber-per-name": "Lindenfeld",
          "idn": 2,
          "title": 2,
          "auftraggeber-per-idn": 0,
          "auftraggeber-inst-idn": 0,
          "auftraggeber-inst-name": 0
         },
         {
          "auftraggeber-per-name": "Lisickij",
          "idn": 1,
          "title": 1,
          "auftraggeber-per-idn": 1,
          "auftraggeber-inst-idn": 1,
          "auftraggeber-inst-name": 1
         },
         {
          "auftraggeber-per-name": "Loeb",
          "idn": 2,
          "title": 2,
          "auftraggeber-per-idn": 2,
          "auftraggeber-inst-idn": 2,
          "auftraggeber-inst-name": 2
         },
         {
          "auftraggeber-per-name": "Müller-Widmann",
          "idn": 2,
          "title": 2,
          "auftraggeber-per-idn": 2,
          "auftraggeber-inst-idn": 0,
          "auftraggeber-inst-name": 0
         },
         {
          "auftraggeber-per-name": "Norkauer",
          "idn": 4,
          "title": 4,
          "auftraggeber-per-idn": 4,
          "auftraggeber-inst-idn": 0,
          "auftraggeber-inst-name": 0
         },
         {
          "auftraggeber-per-name": "Panozzo",
          "idn": 1,
          "title": 1,
          "auftraggeber-per-idn": 1,
          "auftraggeber-inst-idn": 0,
          "auftraggeber-inst-name": 0
         },
         {
          "auftraggeber-per-name": "Poeschel",
          "idn": 2,
          "title": 2,
          "auftraggeber-per-idn": 2,
          "auftraggeber-inst-idn": 0,
          "auftraggeber-inst-name": 0
         },
         {
          "auftraggeber-per-name": "Qi",
          "idn": 1,
          "title": 1,
          "auftraggeber-per-idn": 1,
          "auftraggeber-inst-idn": 1,
          "auftraggeber-inst-name": 1
         },
         {
          "auftraggeber-per-name": "Renner",
          "idn": 1,
          "title": 1,
          "auftraggeber-per-idn": 1,
          "auftraggeber-inst-idn": 0,
          "auftraggeber-inst-name": 0
         },
         {
          "auftraggeber-per-name": "Reymond",
          "idn": 2,
          "title": 2,
          "auftraggeber-per-idn": 0,
          "auftraggeber-inst-idn": 0,
          "auftraggeber-inst-name": 0
         },
         {
          "auftraggeber-per-name": "Sacher",
          "idn": 1,
          "title": 1,
          "auftraggeber-per-idn": 1,
          "auftraggeber-inst-idn": 0,
          "auftraggeber-inst-name": 0
         },
         {
          "auftraggeber-per-name": "Schmidt",
          "idn": 1,
          "title": 1,
          "auftraggeber-per-idn": 1,
          "auftraggeber-inst-idn": 0,
          "auftraggeber-inst-name": 1
         },
         {
          "auftraggeber-per-name": "Schürmann",
          "idn": 1,
          "title": 1,
          "auftraggeber-per-idn": 0,
          "auftraggeber-inst-idn": 0,
          "auftraggeber-inst-name": 0
         },
         {
          "auftraggeber-per-name": "Seebass",
          "idn": 1,
          "title": 1,
          "auftraggeber-per-idn": 1,
          "auftraggeber-inst-idn": 0,
          "auftraggeber-inst-name": 0
         },
         {
          "auftraggeber-per-name": "Seitz",
          "idn": 1,
          "title": 1,
          "auftraggeber-per-idn": 0,
          "auftraggeber-inst-idn": 0,
          "auftraggeber-inst-name": 1
         },
         {
          "auftraggeber-per-name": "Smith",
          "idn": 1,
          "title": 1,
          "auftraggeber-per-idn": 0,
          "auftraggeber-inst-idn": 0,
          "auftraggeber-inst-name": 0
         },
         {
          "auftraggeber-per-name": "Stern",
          "idn": 1,
          "title": 1,
          "auftraggeber-per-idn": 0,
          "auftraggeber-inst-idn": 0,
          "auftraggeber-inst-name": 0
         },
         {
          "auftraggeber-per-name": "Stoecklin",
          "idn": 1,
          "title": 1,
          "auftraggeber-per-idn": 1,
          "auftraggeber-inst-idn": 1,
          "auftraggeber-inst-name": 1
         },
         {
          "auftraggeber-per-name": "Tschichold",
          "idn": 7,
          "title": 7,
          "auftraggeber-per-idn": 7,
          "auftraggeber-inst-idn": 4,
          "auftraggeber-inst-name": 4
         },
         {
          "auftraggeber-per-name": "Uzielli",
          "idn": 1,
          "title": 1,
          "auftraggeber-per-idn": 1,
          "auftraggeber-inst-idn": 0,
          "auftraggeber-inst-name": 0
         },
         {
          "auftraggeber-per-name": "Wackernagel",
          "idn": 2,
          "title": 2,
          "auftraggeber-per-idn": 2,
          "auftraggeber-inst-idn": 0,
          "auftraggeber-inst-name": 0
         },
         {
          "auftraggeber-per-name": "Wasow",
          "idn": 1,
          "title": 1,
          "auftraggeber-per-idn": 1,
          "auftraggeber-inst-idn": 0,
          "auftraggeber-inst-name": 0
         },
         {
          "auftraggeber-per-name": "Weigand",
          "idn": 1,
          "title": 1,
          "auftraggeber-per-idn": 0,
          "auftraggeber-inst-idn": 1,
          "auftraggeber-inst-name": 1
         },
         {
          "auftraggeber-per-name": "Wieynck",
          "idn": 3,
          "title": 3,
          "auftraggeber-per-idn": 3,
          "auftraggeber-inst-idn": 2,
          "auftraggeber-inst-name": 2
         },
         {
          "auftraggeber-per-name": "Wirz",
          "idn": 1,
          "title": 1,
          "auftraggeber-per-idn": 0,
          "auftraggeber-inst-idn": 0,
          "auftraggeber-inst-name": 0
         }
        ]
       }
      }
     },
     "metadata": {},
     "execution_count": 37
    }
   ],
   "metadata": {}
  },
  {
   "cell_type": "code",
   "execution_count": 38,
   "source": [
    "auftrag_inst = alt.Chart(auftraggeber.groupby('auftraggeber-inst-name').count().reset_index()).mark_bar().encode(\n",
    "        alt.X('auftraggeber-inst-name:N', sort='-y', title='Auftraggeber'),\n",
    "        alt.Y('title:Q', title='Datensätze'),\n",
    "        alt.Color('auftraggeber-inst-name:N', sort='-y', title='institutionelle Auftraggeber'),\n",
    "        tooltip=[alt.Tooltip('auftraggeber-inst-name:N', title='Auftraggeber'), alt.Tooltip('title:Q', title='Anzahl Datensätze')]\n",
    "    ).transform_window(\n",
    "    rank='rank(title)',\n",
    "    sort=[alt.SortField('title', order='descending')]\n",
    "    ).transform_filter(\n",
    "    (alt.datum.rank < 20))"
   ],
   "outputs": [],
   "metadata": {}
  },
  {
   "cell_type": "code",
   "execution_count": 39,
   "source": [
    "auftrag_inst"
   ],
   "outputs": [
    {
     "output_type": "execute_result",
     "data": {
      "text/plain": [
       "<VegaLite 4 object>\n",
       "\n",
       "If you see this message, it means the renderer has not been properly enabled\n",
       "for the frontend that you are using. For more information, see\n",
       "https://altair-viz.github.io/user_guide/troubleshooting.html\n"
      ],
      "application/vnd.vegalite.v4+json": {
       "config": {
        "view": {
         "continuousWidth": 400,
         "continuousHeight": 300
        }
       },
       "data": {
        "name": "data-af0664a96e9607587372d3838f3e6e3d"
       },
       "mark": "bar",
       "encoding": {
        "color": {
         "type": "nominal",
         "field": "auftraggeber-inst-name",
         "sort": "-y",
         "title": "institutionelle Auftraggeber"
        },
        "tooltip": [
         {
          "type": "nominal",
          "field": "auftraggeber-inst-name",
          "title": "Auftraggeber"
         },
         {
          "type": "quantitative",
          "field": "title",
          "title": "Anzahl Datensätze"
         }
        ],
        "x": {
         "type": "nominal",
         "field": "auftraggeber-inst-name",
         "sort": "-y",
         "title": "Auftraggeber"
        },
        "y": {
         "type": "quantitative",
         "field": "title",
         "title": "Datensätze"
        }
       },
       "transform": [
        {
         "window": [
          {
           "op": "rank",
           "field": "title",
           "as": "rank"
          }
         ],
         "sort": [
          {
           "field": "title",
           "order": "descending"
          }
         ]
        },
        {
         "filter": "(datum.rank < 20)"
        }
       ],
       "$schema": "https://vega.github.io/schema/vega-lite/v4.8.1.json",
       "datasets": {
        "data-af0664a96e9607587372d3838f3e6e3d": [
         {
          "auftraggeber-inst-name": "Aargau",
          "idn": 2,
          "title": 2,
          "auftraggeber-per-idn": 0,
          "auftraggeber-per-name": 0,
          "auftraggeber-inst-idn": 2
         },
         {
          "auftraggeber-inst-name": "Ad. Engler & Cie",
          "idn": 3,
          "title": 3,
          "auftraggeber-per-idn": 0,
          "auftraggeber-per-name": 0,
          "auftraggeber-inst-idn": 0
         },
         {
          "auftraggeber-inst-name": "Adolf Wirz AG Werbeberatung",
          "idn": 1,
          "title": 1,
          "auftraggeber-per-idn": 0,
          "auftraggeber-per-name": 0,
          "auftraggeber-inst-idn": 1
         },
         {
          "auftraggeber-inst-name": "Akademisch-Politischer Club",
          "idn": 1,
          "title": 1,
          "auftraggeber-per-idn": 0,
          "auftraggeber-per-name": 0,
          "auftraggeber-inst-idn": 1
         },
         {
          "auftraggeber-inst-name": "Akademischer Verlag Dr. Fritz Wedekind",
          "idn": 2,
          "title": 2,
          "auftraggeber-per-idn": 1,
          "auftraggeber-per-name": 1,
          "auftraggeber-inst-idn": 2
         },
         {
          "auftraggeber-inst-name": "Allgemeine Gewerbeschule",
          "idn": 6,
          "title": 6,
          "auftraggeber-per-idn": 1,
          "auftraggeber-per-name": 1,
          "auftraggeber-inst-idn": 6
         },
         {
          "auftraggeber-inst-name": "Art. Institut Orell Füssli",
          "idn": 3,
          "title": 3,
          "auftraggeber-per-idn": 0,
          "auftraggeber-per-name": 0,
          "auftraggeber-inst-idn": 3
         },
         {
          "auftraggeber-inst-name": "Atelier für buchgewerbliche Herstellung Ernst Kellner",
          "idn": 2,
          "title": 2,
          "auftraggeber-per-idn": 0,
          "auftraggeber-per-name": 0,
          "auftraggeber-inst-idn": 0
         },
         {
          "auftraggeber-inst-name": "Aug. Heinrigs",
          "idn": 1,
          "title": 1,
          "auftraggeber-per-idn": 0,
          "auftraggeber-per-name": 0,
          "auftraggeber-inst-idn": 1
         },
         {
          "auftraggeber-inst-name": "B. G. Teubner",
          "idn": 2,
          "title": 2,
          "auftraggeber-per-idn": 0,
          "auftraggeber-per-name": 0,
          "auftraggeber-inst-idn": 2
         },
         {
          "auftraggeber-inst-name": "Basel-Stadt",
          "idn": 4,
          "title": 4,
          "auftraggeber-per-idn": 0,
          "auftraggeber-per-name": 0,
          "auftraggeber-inst-idn": 4
         },
         {
          "auftraggeber-inst-name": "Basler Kunstverein",
          "idn": 1,
          "title": 1,
          "auftraggeber-per-idn": 0,
          "auftraggeber-per-name": 0,
          "auftraggeber-inst-idn": 1
         },
         {
          "auftraggeber-inst-name": "Bayerische Staatsoper",
          "idn": 1,
          "title": 1,
          "auftraggeber-per-idn": 0,
          "auftraggeber-per-name": 0,
          "auftraggeber-inst-idn": 1
         },
         {
          "auftraggeber-inst-name": "Bayerische Staatstheater",
          "idn": 2,
          "title": 2,
          "auftraggeber-per-idn": 0,
          "auftraggeber-per-name": 0,
          "auftraggeber-inst-idn": 2
         },
         {
          "auftraggeber-inst-name": "Bayerischer Kunstgewerbe-Verein",
          "idn": 2,
          "title": 2,
          "auftraggeber-per-idn": 0,
          "auftraggeber-per-name": 0,
          "auftraggeber-inst-idn": 2
         },
         {
          "auftraggeber-inst-name": "Benno Schwabe und Co.",
          "idn": 5,
          "title": 5,
          "auftraggeber-per-idn": 0,
          "auftraggeber-per-name": 0,
          "auftraggeber-inst-idn": 5
         },
         {
          "auftraggeber-inst-name": "Benteli Verlag",
          "idn": 3,
          "title": 3,
          "auftraggeber-per-idn": 1,
          "auftraggeber-per-name": 1,
          "auftraggeber-inst-idn": 3
         },
         {
          "auftraggeber-inst-name": "Benziger Verlag",
          "idn": 1,
          "title": 1,
          "auftraggeber-per-idn": 0,
          "auftraggeber-per-name": 0,
          "auftraggeber-inst-idn": 1
         },
         {
          "auftraggeber-inst-name": "Bernhard Tauchnitz",
          "idn": 1,
          "title": 1,
          "auftraggeber-per-idn": 0,
          "auftraggeber-per-name": 0,
          "auftraggeber-inst-idn": 1
         },
         {
          "auftraggeber-inst-name": "Bildungsverband der Deutschen Buchdrucker",
          "idn": 4,
          "title": 4,
          "auftraggeber-per-idn": 0,
          "auftraggeber-per-name": 0,
          "auftraggeber-inst-idn": 4
         },
         {
          "auftraggeber-inst-name": "Birkhäuser",
          "idn": 195,
          "title": 195,
          "auftraggeber-per-idn": 2,
          "auftraggeber-per-name": 3,
          "auftraggeber-inst-idn": 195
         },
         {
          "auftraggeber-inst-name": "Brauner Mutz",
          "idn": 1,
          "title": 1,
          "auftraggeber-per-idn": 0,
          "auftraggeber-per-name": 0,
          "auftraggeber-inst-idn": 1
         },
         {
          "auftraggeber-inst-name": "Briefmarken Müller, Basel",
          "idn": 1,
          "title": 1,
          "auftraggeber-per-idn": 0,
          "auftraggeber-per-name": 0,
          "auftraggeber-inst-idn": 0
         },
         {
          "auftraggeber-inst-name": "Buchbinderei Schwab Liestal",
          "idn": 1,
          "title": 1,
          "auftraggeber-per-idn": 0,
          "auftraggeber-per-name": 0,
          "auftraggeber-inst-idn": 1
         },
         {
          "auftraggeber-inst-name": "Buchdruckerei Benteli AG",
          "idn": 2,
          "title": 2,
          "auftraggeber-per-idn": 0,
          "auftraggeber-per-name": 0,
          "auftraggeber-inst-idn": 2
         },
         {
          "auftraggeber-inst-name": "Buchdruckerei Franz Eggert",
          "idn": 2,
          "title": 2,
          "auftraggeber-per-idn": 0,
          "auftraggeber-per-name": 0,
          "auftraggeber-inst-idn": 2
         },
         {
          "auftraggeber-inst-name": "Buchdruckerei Karl Werner",
          "idn": 1,
          "title": 1,
          "auftraggeber-per-idn": 0,
          "auftraggeber-per-name": 0,
          "auftraggeber-inst-idn": 1
         },
         {
          "auftraggeber-inst-name": "Bucherer, Kurrus & Co., Papiere en gros",
          "idn": 25,
          "title": 25,
          "auftraggeber-per-idn": 1,
          "auftraggeber-per-name": 1,
          "auftraggeber-inst-idn": 25
         },
         {
          "auftraggeber-inst-name": "Bund Deutscher Gebrauchsgraphiker",
          "idn": 2,
          "title": 2,
          "auftraggeber-per-idn": 0,
          "auftraggeber-per-name": 0,
          "auftraggeber-inst-idn": 2
         },
         {
          "auftraggeber-inst-name": "Burg-Verlag",
          "idn": 11,
          "title": 11,
          "auftraggeber-per-idn": 0,
          "auftraggeber-per-name": 0,
          "auftraggeber-inst-idn": 11
         },
         {
          "auftraggeber-inst-name": "Buss AG",
          "idn": 1,
          "title": 1,
          "auftraggeber-per-idn": 0,
          "auftraggeber-per-name": 0,
          "auftraggeber-inst-idn": 1
         },
         {
          "auftraggeber-inst-name": "Büchergilde Gutenberg Schweiz",
          "idn": 1,
          "title": 1,
          "auftraggeber-per-idn": 0,
          "auftraggeber-per-name": 0,
          "auftraggeber-inst-idn": 1
         },
         {
          "auftraggeber-inst-name": "Bücherkreis",
          "idn": 12,
          "title": 12,
          "auftraggeber-per-idn": 0,
          "auftraggeber-per-name": 0,
          "auftraggeber-inst-idn": 12
         },
         {
          "auftraggeber-inst-name": "Carl-Rönisch-Pianofabrik",
          "idn": 1,
          "title": 1,
          "auftraggeber-per-idn": 0,
          "auftraggeber-per-name": 0,
          "auftraggeber-inst-idn": 1
         },
         {
          "auftraggeber-inst-name": "Chocolats Fjord, Genf",
          "idn": 4,
          "title": 4,
          "auftraggeber-per-idn": 0,
          "auftraggeber-per-name": 0,
          "auftraggeber-inst-idn": 0
         },
         {
          "auftraggeber-inst-name": "Christliche Vereinsbuchhandlung Zürich",
          "idn": 1,
          "title": 1,
          "auftraggeber-per-idn": 0,
          "auftraggeber-per-name": 0,
          "auftraggeber-inst-idn": 0
         },
         {
          "auftraggeber-inst-name": "Clarté-Film AG",
          "idn": 1,
          "title": 1,
          "auftraggeber-per-idn": 0,
          "auftraggeber-per-name": 0,
          "auftraggeber-inst-idn": 1
         },
         {
          "auftraggeber-inst-name": "Clichés Becker & Co Basel",
          "idn": 1,
          "title": 1,
          "auftraggeber-per-idn": 0,
          "auftraggeber-per-name": 0,
          "auftraggeber-inst-idn": 0
         },
         {
          "auftraggeber-inst-name": "Container Corporation of America",
          "idn": 5,
          "title": 5,
          "auftraggeber-per-idn": 0,
          "auftraggeber-per-name": 0,
          "auftraggeber-inst-idn": 5
         },
         {
          "auftraggeber-inst-name": "DLW-Aktiengesellschaft",
          "idn": 1,
          "title": 1,
          "auftraggeber-per-idn": 1,
          "auftraggeber-per-name": 1,
          "auftraggeber-inst-idn": 1
         },
         {
          "auftraggeber-inst-name": "Delphin-Verlag",
          "idn": 1,
          "title": 1,
          "auftraggeber-per-idn": 0,
          "auftraggeber-per-name": 0,
          "auftraggeber-inst-idn": 1
         },
         {
          "auftraggeber-inst-name": "Der @Schweizerische Beobachter",
          "idn": 1,
          "title": 1,
          "auftraggeber-per-idn": 0,
          "auftraggeber-per-name": 0,
          "auftraggeber-inst-idn": 1
         },
         {
          "auftraggeber-inst-name": "Der @Tempel-Verlag",
          "idn": 1,
          "title": 1,
          "auftraggeber-per-idn": 0,
          "auftraggeber-per-name": 0,
          "auftraggeber-inst-idn": 1
         },
         {
          "auftraggeber-inst-name": "Deutsche Buch-Gemeinschaft",
          "idn": 1,
          "title": 1,
          "auftraggeber-per-idn": 0,
          "auftraggeber-per-name": 0,
          "auftraggeber-inst-idn": 1
         },
         {
          "auftraggeber-inst-name": "Deutsche Meisterschule für Mode",
          "idn": 1,
          "title": 1,
          "auftraggeber-per-idn": 0,
          "auftraggeber-per-name": 0,
          "auftraggeber-inst-idn": 1
         },
         {
          "auftraggeber-inst-name": "Deutsche Verlagsgesellschaft für Politik und Geschichte",
          "idn": 1,
          "title": 1,
          "auftraggeber-per-idn": 0,
          "auftraggeber-per-name": 0,
          "auftraggeber-inst-idn": 1
         },
         {
          "auftraggeber-inst-name": "Deutsche Werkstätten",
          "idn": 2,
          "title": 2,
          "auftraggeber-per-idn": 0,
          "auftraggeber-per-name": 0,
          "auftraggeber-inst-idn": 2
         },
         {
          "auftraggeber-inst-name": "Deutscher Buchgewerbeverein",
          "idn": 4,
          "title": 4,
          "auftraggeber-per-idn": 0,
          "auftraggeber-per-name": 0,
          "auftraggeber-inst-idn": 4
         },
         {
          "auftraggeber-inst-name": "Deutscher Künstlerverband Die Juryfreien",
          "idn": 1,
          "title": 1,
          "auftraggeber-per-idn": 0,
          "auftraggeber-per-name": 0,
          "auftraggeber-inst-idn": 1
         },
         {
          "auftraggeber-inst-name": "Deutsches Museum von Meisterwerken der Naturwissenschaft und Technik",
          "idn": 1,
          "title": 1,
          "auftraggeber-per-idn": 0,
          "auftraggeber-per-name": 0,
          "auftraggeber-inst-idn": 1
         },
         {
          "auftraggeber-inst-name": "Dietrich Reimer",
          "idn": 6,
          "title": 6,
          "auftraggeber-per-idn": 0,
          "auftraggeber-per-name": 0,
          "auftraggeber-inst-idn": 6
         },
         {
          "auftraggeber-inst-name": "Doktor Ernst Hauswedell und Co.",
          "idn": 2,
          "title": 2,
          "auftraggeber-per-idn": 0,
          "auftraggeber-per-name": 0,
          "auftraggeber-inst-idn": 2
         },
         {
          "auftraggeber-inst-name": "Dr. Ziegler & Cie. Aktiengesellschaft",
          "idn": 1,
          "title": 1,
          "auftraggeber-per-idn": 0,
          "auftraggeber-per-name": 0,
          "auftraggeber-inst-idn": 0
         },
         {
          "auftraggeber-inst-name": "Drei-Masken-Verlag",
          "idn": 1,
          "title": 1,
          "auftraggeber-per-idn": 0,
          "auftraggeber-per-name": 0,
          "auftraggeber-inst-idn": 1
         },
         {
          "auftraggeber-inst-name": "Druckerei J. Fink",
          "idn": 1,
          "title": 1,
          "auftraggeber-per-idn": 1,
          "auftraggeber-per-name": 1,
          "auftraggeber-inst-idn": 1
         },
         {
          "auftraggeber-inst-name": "Druckfarbenfabrik G. Eurrers Erben",
          "idn": 1,
          "title": 1,
          "auftraggeber-per-idn": 0,
          "auftraggeber-per-name": 0,
          "auftraggeber-inst-idn": 0
         },
         {
          "auftraggeber-inst-name": "Eika - Einkaufsstelle des Schutzverbandes der papierverarbeitenden Industrien der Schweiz",
          "idn": 1,
          "title": 1,
          "auftraggeber-per-idn": 0,
          "auftraggeber-per-name": 0,
          "auftraggeber-inst-idn": 1
         },
         {
          "auftraggeber-inst-name": "Eisenbau Schiege Aktiengesellschaft, Leipzig-Paunsdorf",
          "idn": 1,
          "title": 1,
          "auftraggeber-per-idn": 0,
          "auftraggeber-per-name": 0,
          "auftraggeber-inst-idn": 0
         },
         {
          "auftraggeber-inst-name": "Elsy Leutwyler",
          "idn": 1,
          "title": 1,
          "auftraggeber-per-idn": 0,
          "auftraggeber-per-name": 0,
          "auftraggeber-inst-idn": 0
         },
         {
          "auftraggeber-inst-name": "Emil Gerasch GmbH",
          "idn": 7,
          "title": 7,
          "auftraggeber-per-idn": 0,
          "auftraggeber-per-name": 1,
          "auftraggeber-inst-idn": 7
         },
         {
          "auftraggeber-inst-name": "Emil Nüesch AG",
          "idn": 1,
          "title": 1,
          "auftraggeber-per-idn": 0,
          "auftraggeber-per-name": 0,
          "auftraggeber-inst-idn": 1
         },
         {
          "auftraggeber-inst-name": "Erich Wewel Verlag",
          "idn": 1,
          "title": 1,
          "auftraggeber-per-idn": 0,
          "auftraggeber-per-name": 0,
          "auftraggeber-inst-idn": 1
         },
         {
          "auftraggeber-inst-name": "Ernst Rowohlt KG",
          "idn": 1,
          "title": 1,
          "auftraggeber-per-idn": 0,
          "auftraggeber-per-name": 0,
          "auftraggeber-inst-idn": 1
         },
         {
          "auftraggeber-inst-name": "Ernst Wolpers Bücher",
          "idn": 1,
          "title": 1,
          "auftraggeber-per-idn": 0,
          "auftraggeber-per-name": 0,
          "auftraggeber-inst-idn": 0
         },
         {
          "auftraggeber-inst-name": "Ernst-Müller-Briefmarken",
          "idn": 1,
          "title": 1,
          "auftraggeber-per-idn": 0,
          "auftraggeber-per-name": 0,
          "auftraggeber-inst-idn": 1
         },
         {
          "auftraggeber-inst-name": "Eugen-Rentsch-Verlag",
          "idn": 4,
          "title": 4,
          "auftraggeber-per-idn": 0,
          "auftraggeber-per-name": 0,
          "auftraggeber-inst-idn": 4
         },
         {
          "auftraggeber-inst-name": "Euphorion Verlag",
          "idn": 2,
          "title": 2,
          "auftraggeber-per-idn": 0,
          "auftraggeber-per-name": 0,
          "auftraggeber-inst-idn": 2
         },
         {
          "auftraggeber-inst-name": "F. Aeberli",
          "idn": 1,
          "title": 1,
          "auftraggeber-per-idn": 0,
          "auftraggeber-per-name": 0,
          "auftraggeber-inst-idn": 0
         },
         {
          "auftraggeber-inst-name": "F. Bruckmann",
          "idn": 3,
          "title": 3,
          "auftraggeber-per-idn": 0,
          "auftraggeber-per-name": 0,
          "auftraggeber-inst-idn": 3
         },
         {
          "auftraggeber-inst-name": "Faber & Faber",
          "idn": 1,
          "title": 1,
          "auftraggeber-per-idn": 0,
          "auftraggeber-per-name": 0,
          "auftraggeber-inst-idn": 1
         },
         {
          "auftraggeber-inst-name": "Firma Baader",
          "idn": 1,
          "title": 1,
          "auftraggeber-per-idn": 0,
          "auftraggeber-per-name": 0,
          "auftraggeber-inst-idn": 0
         },
         {
          "auftraggeber-inst-name": "Firma Fritz Lamm",
          "idn": 1,
          "title": 1,
          "auftraggeber-per-idn": 0,
          "auftraggeber-per-name": 0,
          "auftraggeber-inst-idn": 0
         },
         {
          "auftraggeber-inst-name": "Firma Günther Wagner",
          "idn": 1,
          "title": 1,
          "auftraggeber-per-idn": 0,
          "auftraggeber-per-name": 0,
          "auftraggeber-inst-idn": 1
         },
         {
          "auftraggeber-inst-name": "Firma H. Zuebler-Ruegger",
          "idn": 1,
          "title": 1,
          "auftraggeber-per-idn": 0,
          "auftraggeber-per-name": 0,
          "auftraggeber-inst-idn": 0
         },
         {
          "auftraggeber-inst-name": "Firma Wackernagel & Schönholzer, Gartenbau",
          "idn": 1,
          "title": 1,
          "auftraggeber-per-idn": 0,
          "auftraggeber-per-name": 0,
          "auftraggeber-inst-idn": 0
         },
         {
          "auftraggeber-inst-name": "Fischer & Wittig",
          "idn": 12,
          "title": 12,
          "auftraggeber-per-idn": 0,
          "auftraggeber-per-name": 0,
          "auftraggeber-inst-idn": 12
         },
         {
          "auftraggeber-inst-name": "Frankfurter Verlags-Anstalt",
          "idn": 1,
          "title": 1,
          "auftraggeber-per-idn": 0,
          "auftraggeber-per-name": 0,
          "auftraggeber-inst-idn": 1
         },
         {
          "auftraggeber-inst-name": "Franz Haniel & Cie. GmbH",
          "idn": 3,
          "title": 3,
          "auftraggeber-per-idn": 0,
          "auftraggeber-per-name": 0,
          "auftraggeber-inst-idn": 3
         },
         {
          "auftraggeber-inst-name": "Freunde Alter Musik in Basel",
          "idn": 10,
          "title": 10,
          "auftraggeber-per-idn": 0,
          "auftraggeber-per-name": 0,
          "auftraggeber-inst-idn": 10
         },
         {
          "auftraggeber-inst-name": "Fritz Knorr Buchdruckerei",
          "idn": 2,
          "title": 2,
          "auftraggeber-per-idn": 0,
          "auftraggeber-per-name": 0,
          "auftraggeber-inst-idn": 0
         },
         {
          "auftraggeber-inst-name": "Gaba AG",
          "idn": 1,
          "title": 1,
          "auftraggeber-per-idn": 1,
          "auftraggeber-per-name": 1,
          "auftraggeber-inst-idn": 1
         },
         {
          "auftraggeber-inst-name": "Galerie Beyeler",
          "idn": 1,
          "title": 1,
          "auftraggeber-per-idn": 1,
          "auftraggeber-per-name": 1,
          "auftraggeber-inst-idn": 1
         },
         {
          "auftraggeber-inst-name": "Gasser und Cie., AG",
          "idn": 3,
          "title": 3,
          "auftraggeber-per-idn": 0,
          "auftraggeber-per-name": 0,
          "auftraggeber-inst-idn": 3
         },
         {
          "auftraggeber-inst-name": "Gasthaus zum Rössli, Augst",
          "idn": 1,
          "title": 1,
          "auftraggeber-per-idn": 0,
          "auftraggeber-per-name": 0,
          "auftraggeber-inst-idn": 0
         },
         {
          "auftraggeber-inst-name": "Gebr. Opacher Ab., München",
          "idn": 3,
          "title": 3,
          "auftraggeber-per-idn": 0,
          "auftraggeber-per-name": 0,
          "auftraggeber-inst-idn": 0
         },
         {
          "auftraggeber-inst-name": "Georg-Rentsch-Söhne",
          "idn": 11,
          "title": 11,
          "auftraggeber-per-idn": 0,
          "auftraggeber-per-name": 0,
          "auftraggeber-inst-idn": 11
         },
         {
          "auftraggeber-inst-name": "Gesellschaft Schweizerischer Sanitätsoffiziere",
          "idn": 1,
          "title": 1,
          "auftraggeber-per-idn": 0,
          "auftraggeber-per-name": 0,
          "auftraggeber-inst-idn": 1
         },
         {
          "auftraggeber-inst-name": "Gesellschaft für Chemische Industrie in Basel",
          "idn": 9,
          "title": 9,
          "auftraggeber-per-idn": 0,
          "auftraggeber-per-name": 0,
          "auftraggeber-inst-idn": 9
         },
         {
          "auftraggeber-inst-name": "Gesellschaft zur Beförderung des Guten und Gemeinnützigen Basel",
          "idn": 2,
          "title": 2,
          "auftraggeber-per-idn": 0,
          "auftraggeber-per-name": 0,
          "auftraggeber-inst-idn": 2
         },
         {
          "auftraggeber-inst-name": "Gewerbemuseum Basel",
          "idn": 11,
          "title": 11,
          "auftraggeber-per-idn": 1,
          "auftraggeber-per-name": 1,
          "auftraggeber-inst-idn": 11
         },
         {
          "auftraggeber-inst-name": "Gipsergeschäft H. Vogt-Brianti, Basel",
          "idn": 1,
          "title": 1,
          "auftraggeber-per-idn": 0,
          "auftraggeber-per-name": 0,
          "auftraggeber-inst-idn": 0
         },
         {
          "auftraggeber-inst-name": "Goethesaal",
          "idn": 1,
          "title": 1,
          "auftraggeber-per-idn": 0,
          "auftraggeber-per-name": 0,
          "auftraggeber-inst-idn": 0
         },
         {
          "auftraggeber-inst-name": "Goldschmidt Basel AG",
          "idn": 2,
          "title": 2,
          "auftraggeber-per-idn": 0,
          "auftraggeber-per-name": 0,
          "auftraggeber-inst-idn": 2
         },
         {
          "auftraggeber-inst-name": "Gotthelf-Verlag",
          "idn": 2,
          "title": 2,
          "auftraggeber-per-idn": 0,
          "auftraggeber-per-name": 0,
          "auftraggeber-inst-idn": 2
         },
         {
          "auftraggeber-inst-name": "Grafica AG",
          "idn": 1,
          "title": 1,
          "auftraggeber-per-idn": 0,
          "auftraggeber-per-name": 0,
          "auftraggeber-inst-idn": 1
         },
         {
          "auftraggeber-inst-name": "Graphia Hans Gundlach GmbH",
          "idn": 2,
          "title": 2,
          "auftraggeber-per-idn": 0,
          "auftraggeber-per-name": 0,
          "auftraggeber-inst-idn": 0
         },
         {
          "auftraggeber-inst-name": "Graphische Berufsschule",
          "idn": 1,
          "title": 1,
          "auftraggeber-per-idn": 0,
          "auftraggeber-per-name": 0,
          "auftraggeber-inst-idn": 1
         },
         {
          "auftraggeber-inst-name": "Großbuchbinderei G. Wolfensberger",
          "idn": 1,
          "title": 1,
          "auftraggeber-per-idn": 0,
          "auftraggeber-per-name": 0,
          "auftraggeber-inst-idn": 1
         },
         {
          "auftraggeber-inst-name": "Gruppe 33",
          "idn": 1,
          "title": 1,
          "auftraggeber-per-idn": 0,
          "auftraggeber-per-name": 0,
          "auftraggeber-inst-idn": 1
         },
         {
          "auftraggeber-inst-name": "Gustav Reisacher",
          "idn": 1,
          "title": 1,
          "auftraggeber-per-idn": 0,
          "auftraggeber-per-name": 0,
          "auftraggeber-inst-idn": 0
         },
         {
          "auftraggeber-inst-name": "Hahnemühle",
          "idn": 2,
          "title": 2,
          "auftraggeber-per-idn": 0,
          "auftraggeber-per-name": 0,
          "auftraggeber-inst-idn": 2
         },
         {
          "auftraggeber-inst-name": "Haupt",
          "idn": 1,
          "title": 1,
          "auftraggeber-per-idn": 0,
          "auftraggeber-per-name": 0,
          "auftraggeber-inst-idn": 1
         },
         {
          "auftraggeber-inst-name": "Haus der Bücher",
          "idn": 1,
          "title": 1,
          "auftraggeber-per-idn": 0,
          "auftraggeber-per-name": 0,
          "auftraggeber-inst-idn": 1
         },
         {
          "auftraggeber-inst-name": "Heinrich Majer",
          "idn": 1,
          "title": 1,
          "auftraggeber-per-idn": 0,
          "auftraggeber-per-name": 0,
          "auftraggeber-inst-idn": 1
         },
         {
          "auftraggeber-inst-name": "Heinrich Majer Verlag",
          "idn": 14,
          "title": 14,
          "auftraggeber-per-idn": 0,
          "auftraggeber-per-name": 0,
          "auftraggeber-inst-idn": 14
         },
         {
          "auftraggeber-inst-name": "Helbing & Lichtenhahn",
          "idn": 2,
          "title": 2,
          "auftraggeber-per-idn": 0,
          "auftraggeber-per-name": 0,
          "auftraggeber-inst-idn": 2
         },
         {
          "auftraggeber-inst-name": "Herbert Reichner - Verlag",
          "idn": 1,
          "title": 1,
          "auftraggeber-per-idn": 0,
          "auftraggeber-per-name": 0,
          "auftraggeber-inst-idn": 1
         },
         {
          "auftraggeber-inst-name": "Hermann Millizer GmbH",
          "idn": 1,
          "title": 1,
          "auftraggeber-per-idn": 0,
          "auftraggeber-per-name": 0,
          "auftraggeber-inst-idn": 1
         },
         {
          "auftraggeber-inst-name": "Hoffmann-La Roche Aktiengesellschaft",
          "idn": 1,
          "title": 1,
          "auftraggeber-per-idn": 0,
          "auftraggeber-per-name": 0,
          "auftraggeber-inst-idn": 1
         },
         {
          "auftraggeber-inst-name": "Holbein-Verlag",
          "idn": 62,
          "title": 62,
          "auftraggeber-per-idn": 2,
          "auftraggeber-per-name": 3,
          "auftraggeber-inst-idn": 62
         },
         {
          "auftraggeber-inst-name": "Home & Van Thal, London",
          "idn": 1,
          "title": 1,
          "auftraggeber-per-idn": 0,
          "auftraggeber-per-name": 0,
          "auftraggeber-inst-idn": 0
         },
         {
          "auftraggeber-inst-name": "Huguenin & Cie",
          "idn": 1,
          "title": 1,
          "auftraggeber-per-idn": 0,
          "auftraggeber-per-name": 0,
          "auftraggeber-inst-idn": 0
         },
         {
          "auftraggeber-inst-name": "Indanthrenhaus München GmbH",
          "idn": 1,
          "title": 1,
          "auftraggeber-per-idn": 0,
          "auftraggeber-per-name": 0,
          "auftraggeber-inst-idn": 0
         },
         {
          "auftraggeber-inst-name": "Insel Verlag Anton Kippenberg Leipzig",
          "idn": 5,
          "title": 5,
          "auftraggeber-per-idn": 0,
          "auftraggeber-per-name": 0,
          "auftraggeber-inst-idn": 5
         },
         {
          "auftraggeber-inst-name": "Insel Verlag Anton Kippenberg, Leipzig",
          "idn": 39,
          "title": 39,
          "auftraggeber-per-idn": 1,
          "auftraggeber-per-name": 1,
          "auftraggeber-inst-idn": 39
         },
         {
          "auftraggeber-inst-name": "Institut für Behandlung neuzeitlicher Erziehungs- und Unterrichtsfragen; Basler Schulausstellung",
          "idn": 1,
          "title": 1,
          "auftraggeber-per-idn": 0,
          "auftraggeber-per-name": 0,
          "auftraggeber-inst-idn": 0
         },
         {
          "auftraggeber-inst-name": "Interavia SA",
          "idn": 11,
          "title": 11,
          "auftraggeber-per-idn": 0,
          "auftraggeber-per-name": 0,
          "auftraggeber-inst-idn": 11
         },
         {
          "auftraggeber-inst-name": "International Committee on the History of Art",
          "idn": 1,
          "title": 1,
          "auftraggeber-per-idn": 0,
          "auftraggeber-per-name": 0,
          "auftraggeber-inst-idn": 1
         },
         {
          "auftraggeber-inst-name": "Internationale Felix-Mendelssohn-Gesellschaft",
          "idn": 1,
          "title": 1,
          "auftraggeber-per-idn": 0,
          "auftraggeber-per-name": 0,
          "auftraggeber-inst-idn": 1
         },
         {
          "auftraggeber-inst-name": "Interpharma",
          "idn": 1,
          "title": 1,
          "auftraggeber-per-idn": 0,
          "auftraggeber-per-name": 0,
          "auftraggeber-inst-idn": 1
         },
         {
          "auftraggeber-inst-name": "J. B. Hirschfeld",
          "idn": 1,
          "title": 1,
          "auftraggeber-per-idn": 0,
          "auftraggeber-per-name": 0,
          "auftraggeber-inst-idn": 1
         },
         {
          "auftraggeber-inst-name": "J. G. Schelter & Giesecke",
          "idn": 1,
          "title": 1,
          "auftraggeber-per-idn": 0,
          "auftraggeber-per-name": 0,
          "auftraggeber-inst-idn": 1
         },
         {
          "auftraggeber-inst-name": "Josef-Stocker-AG",
          "idn": 20,
          "title": 20,
          "auftraggeber-per-idn": 0,
          "auftraggeber-per-name": 0,
          "auftraggeber-inst-idn": 20
         },
         {
          "auftraggeber-inst-name": "Kantonale Handelsschule",
          "idn": 1,
          "title": 1,
          "auftraggeber-per-idn": 0,
          "auftraggeber-per-name": 0,
          "auftraggeber-inst-idn": 1
         },
         {
          "auftraggeber-inst-name": "Karl Wahl, Bauschlosserei Basel",
          "idn": 1,
          "title": 1,
          "auftraggeber-per-idn": 0,
          "auftraggeber-per-name": 0,
          "auftraggeber-inst-idn": 0
         },
         {
          "auftraggeber-inst-name": "Karl Zeleny Verlag",
          "idn": 1,
          "title": 1,
          "auftraggeber-per-idn": 0,
          "auftraggeber-per-name": 0,
          "auftraggeber-inst-idn": 0
         },
         {
          "auftraggeber-inst-name": "Karl-Schnabel-Verlag",
          "idn": 4,
          "title": 4,
          "auftraggeber-per-idn": 3,
          "auftraggeber-per-name": 3,
          "auftraggeber-inst-idn": 4
         },
         {
          "auftraggeber-inst-name": "Kaufhaus Cardinal, Basel",
          "idn": 1,
          "title": 1,
          "auftraggeber-per-idn": 0,
          "auftraggeber-per-name": 0,
          "auftraggeber-inst-idn": 0
         },
         {
          "auftraggeber-inst-name": "Kaufhaus Falken, Basel",
          "idn": 1,
          "title": 1,
          "auftraggeber-per-idn": 0,
          "auftraggeber-per-name": 0,
          "auftraggeber-inst-idn": 0
         },
         {
          "auftraggeber-inst-name": "Kaufhaus Gerson",
          "idn": 1,
          "title": 1,
          "auftraggeber-per-idn": 0,
          "auftraggeber-per-name": 0,
          "auftraggeber-inst-idn": 0
         },
         {
          "auftraggeber-inst-name": "Kinderheim \"Im Baumgarten\"",
          "idn": 1,
          "title": 1,
          "auftraggeber-per-idn": 0,
          "auftraggeber-per-name": 0,
          "auftraggeber-inst-idn": 1
         },
         {
          "auftraggeber-inst-name": "Klinkhardt & Biermann",
          "idn": 2,
          "title": 2,
          "auftraggeber-per-idn": 0,
          "auftraggeber-per-name": 0,
          "auftraggeber-inst-idn": 2
         },
         {
          "auftraggeber-inst-name": "Klöckner & Co.",
          "idn": 3,
          "title": 3,
          "auftraggeber-per-idn": 0,
          "auftraggeber-per-name": 0,
          "auftraggeber-inst-idn": 3
         },
         {
          "auftraggeber-inst-name": "Konrad Peter AG",
          "idn": 1,
          "title": 1,
          "auftraggeber-per-idn": 0,
          "auftraggeber-per-name": 0,
          "auftraggeber-inst-idn": 1
         },
         {
          "auftraggeber-inst-name": "Kunsthalle Basel",
          "idn": 3,
          "title": 3,
          "auftraggeber-per-idn": 1,
          "auftraggeber-per-name": 1,
          "auftraggeber-inst-idn": 3
         },
         {
          "auftraggeber-inst-name": "Kunstmuseum Basel",
          "idn": 2,
          "title": 2,
          "auftraggeber-per-idn": 0,
          "auftraggeber-per-name": 0,
          "auftraggeber-inst-idn": 2
         },
         {
          "auftraggeber-inst-name": "Kurt Bertolf & Cie",
          "idn": 2,
          "title": 2,
          "auftraggeber-per-idn": 0,
          "auftraggeber-per-name": 0,
          "auftraggeber-inst-idn": 0
         },
         {
          "auftraggeber-inst-name": "Kurt Wolff Verlag",
          "idn": 2,
          "title": 2,
          "auftraggeber-per-idn": 0,
          "auftraggeber-per-name": 0,
          "auftraggeber-inst-idn": 2
         },
         {
          "auftraggeber-inst-name": "Lehrer und Schüler der Berufsschule für Photo- und Chemigraphen, Kupfer- und Tiefdrucker zu München",
          "idn": 1,
          "title": 1,
          "auftraggeber-per-idn": 0,
          "auftraggeber-per-name": 1,
          "auftraggeber-inst-idn": 0
         },
         {
          "auftraggeber-inst-name": "Lehrmittelverlag des Erziehungsdepartements",
          "idn": 1,
          "title": 1,
          "auftraggeber-per-idn": 0,
          "auftraggeber-per-name": 0,
          "auftraggeber-inst-idn": 1
         },
         {
          "auftraggeber-inst-name": "Lehrmittelverlag des Kantons Basel-Stadt",
          "idn": 1,
          "title": 1,
          "auftraggeber-per-idn": 0,
          "auftraggeber-per-name": 0,
          "auftraggeber-inst-idn": 1
         },
         {
          "auftraggeber-inst-name": "Leipziger Messeamt",
          "idn": 10,
          "title": 10,
          "auftraggeber-per-idn": 0,
          "auftraggeber-per-name": 0,
          "auftraggeber-inst-idn": 10
         },
         {
          "auftraggeber-inst-name": "Leipziger Werbedienst Reklamezentrale der Mustermessen GmbH",
          "idn": 4,
          "title": 4,
          "auftraggeber-per-idn": 0,
          "auftraggeber-per-name": 0,
          "auftraggeber-inst-idn": 4
         },
         {
          "auftraggeber-inst-name": "Loewe & Cie",
          "idn": 1,
          "title": 1,
          "auftraggeber-per-idn": 0,
          "auftraggeber-per-name": 0,
          "auftraggeber-inst-idn": 0
         },
         {
          "auftraggeber-inst-name": "Magazine zum Wilden Mann",
          "idn": 1,
          "title": 1,
          "auftraggeber-per-idn": 0,
          "auftraggeber-per-name": 0,
          "auftraggeber-inst-idn": 1
         },
         {
          "auftraggeber-inst-name": "Maison M. Fink-Humbel, Damencoiffeur",
          "idn": 1,
          "title": 1,
          "auftraggeber-per-idn": 0,
          "auftraggeber-per-name": 0,
          "auftraggeber-inst-idn": 0
         },
         {
          "auftraggeber-inst-name": "Malerwerstatt Heiseler & Wildenhain, Leipzig",
          "idn": 1,
          "title": 1,
          "auftraggeber-per-idn": 0,
          "auftraggeber-per-name": 0,
          "auftraggeber-inst-idn": 0
         },
         {
          "auftraggeber-inst-name": "Meisterschule für Deutschlands Buchdrucker",
          "idn": 5,
          "title": 5,
          "auftraggeber-per-idn": 0,
          "auftraggeber-per-name": 0,
          "auftraggeber-inst-idn": 5
         },
         {
          "auftraggeber-inst-name": "Morf & Co",
          "idn": 3,
          "title": 3,
          "auftraggeber-per-idn": 0,
          "auftraggeber-per-name": 0,
          "auftraggeber-inst-idn": 3
         },
         {
          "auftraggeber-inst-name": "Musik-Akademie",
          "idn": 4,
          "title": 4,
          "auftraggeber-per-idn": 0,
          "auftraggeber-per-name": 0,
          "auftraggeber-inst-idn": 4
         },
         {
          "auftraggeber-inst-name": "Musik-Akademie Basel",
          "idn": 15,
          "title": 15,
          "auftraggeber-per-idn": 0,
          "auftraggeber-per-name": 0,
          "auftraggeber-inst-idn": 15
         },
         {
          "auftraggeber-inst-name": "Müller & Kiepenheuer Verlag",
          "idn": 2,
          "title": 2,
          "auftraggeber-per-idn": 0,
          "auftraggeber-per-name": 0,
          "auftraggeber-inst-idn": 2
         },
         {
          "auftraggeber-inst-name": "München",
          "idn": 11,
          "title": 11,
          "auftraggeber-per-idn": 2,
          "auftraggeber-per-name": 2,
          "auftraggeber-inst-idn": 11
         },
         {
          "auftraggeber-inst-name": "Münchner Bund",
          "idn": 6,
          "title": 6,
          "auftraggeber-per-idn": 0,
          "auftraggeber-per-name": 0,
          "auftraggeber-inst-idn": 6
         },
         {
          "auftraggeber-inst-name": "Münchner Kammerspiele",
          "idn": 1,
          "title": 1,
          "auftraggeber-per-idn": 0,
          "auftraggeber-per-name": 0,
          "auftraggeber-inst-idn": 1
         },
         {
          "auftraggeber-inst-name": "Niels Kampmann Verlag",
          "idn": 2,
          "title": 2,
          "auftraggeber-per-idn": 0,
          "auftraggeber-per-name": 0,
          "auftraggeber-inst-idn": 2
         },
         {
          "auftraggeber-inst-name": "Office du Livre",
          "idn": 8,
          "title": 8,
          "auftraggeber-per-idn": 0,
          "auftraggeber-per-name": 0,
          "auftraggeber-inst-idn": 8
         },
         {
          "auftraggeber-inst-name": "Offizin Andersen Nexö",
          "idn": 1,
          "title": 1,
          "auftraggeber-per-idn": 0,
          "auftraggeber-per-name": 0,
          "auftraggeber-inst-idn": 1
         },
         {
          "auftraggeber-inst-name": "Offizin Gebrüder Fretz",
          "idn": 14,
          "title": 14,
          "auftraggeber-per-idn": 0,
          "auftraggeber-per-name": 0,
          "auftraggeber-inst-idn": 14
         },
         {
          "auftraggeber-inst-name": "Omon AG, Basel",
          "idn": 1,
          "title": 1,
          "auftraggeber-per-idn": 0,
          "auftraggeber-per-name": 0,
          "auftraggeber-inst-idn": 0
         },
         {
          "auftraggeber-inst-name": "Orell Füssli Verlag",
          "idn": 1,
          "title": 1,
          "auftraggeber-per-idn": 0,
          "auftraggeber-per-name": 0,
          "auftraggeber-inst-idn": 1
         },
         {
          "auftraggeber-inst-name": "Otto-Blersch-Verlag",
          "idn": 6,
          "title": 6,
          "auftraggeber-per-idn": 0,
          "auftraggeber-per-name": 0,
          "auftraggeber-inst-idn": 6
         },
         {
          "auftraggeber-inst-name": "Otto-Maier-Verlag",
          "idn": 3,
          "title": 3,
          "auftraggeber-per-idn": 0,
          "auftraggeber-per-name": 0,
          "auftraggeber-inst-idn": 3
         },
         {
          "auftraggeber-inst-name": "Österreichisches Gesellschafts- und Wirtschafts-Museum",
          "idn": 1,
          "title": 1,
          "auftraggeber-per-idn": 0,
          "auftraggeber-per-name": 0,
          "auftraggeber-inst-idn": 1
         },
         {
          "auftraggeber-inst-name": "P.A. Norstedt & söner",
          "idn": 1,
          "title": 1,
          "auftraggeber-per-idn": 0,
          "auftraggeber-per-name": 0,
          "auftraggeber-inst-idn": 1
         },
         {
          "auftraggeber-inst-name": "Papyrus AG",
          "idn": 1,
          "title": 1,
          "auftraggeber-per-idn": 0,
          "auftraggeber-per-name": 0,
          "auftraggeber-inst-idn": 1
         },
         {
          "auftraggeber-inst-name": "Paul Graupe",
          "idn": 1,
          "title": 1,
          "auftraggeber-per-idn": 0,
          "auftraggeber-per-name": 0,
          "auftraggeber-inst-idn": 1
         },
         {
          "auftraggeber-inst-name": "Pektin Aktien-Gesellschaft",
          "idn": 1,
          "title": 1,
          "auftraggeber-per-idn": 0,
          "auftraggeber-per-name": 0,
          "auftraggeber-inst-idn": 0
         },
         {
          "auftraggeber-inst-name": "Penguin Books",
          "idn": 39,
          "title": 39,
          "auftraggeber-per-idn": 2,
          "auftraggeber-per-name": 2,
          "auftraggeber-inst-idn": 39
         },
         {
          "auftraggeber-inst-name": "Percy Lund, Humphries and Co.",
          "idn": 6,
          "title": 6,
          "auftraggeber-per-idn": 0,
          "auftraggeber-per-name": 0,
          "auftraggeber-inst-idn": 6
         },
         {
          "auftraggeber-inst-name": "Philips' Phonographic Industries",
          "idn": 1,
          "title": 1,
          "auftraggeber-per-idn": 0,
          "auftraggeber-per-name": 0,
          "auftraggeber-inst-idn": 1
         },
         {
          "auftraggeber-inst-name": "Phoebus-Palast",
          "idn": 13,
          "title": 13,
          "auftraggeber-per-idn": 0,
          "auftraggeber-per-name": 0,
          "auftraggeber-inst-idn": 13
         },
         {
          "auftraggeber-inst-name": "Piano Eckenstein",
          "idn": 1,
          "title": 1,
          "auftraggeber-per-idn": 0,
          "auftraggeber-per-name": 0,
          "auftraggeber-inst-idn": 1
         },
         {
          "auftraggeber-inst-name": "Poeschel & Trepte",
          "idn": 5,
          "title": 5,
          "auftraggeber-per-idn": 0,
          "auftraggeber-per-name": 0,
          "auftraggeber-inst-idn": 5
         },
         {
          "auftraggeber-inst-name": "Prestel Verlag",
          "idn": 1,
          "title": 1,
          "auftraggeber-per-idn": 0,
          "auftraggeber-per-name": 0,
          "auftraggeber-inst-idn": 1
         },
         {
          "auftraggeber-inst-name": "Propyläen-Verlag",
          "idn": 1,
          "title": 1,
          "auftraggeber-per-idn": 0,
          "auftraggeber-per-name": 0,
          "auftraggeber-inst-idn": 1
         },
         {
          "auftraggeber-inst-name": "Rascher und Cie.",
          "idn": 2,
          "title": 2,
          "auftraggeber-per-idn": 0,
          "auftraggeber-per-name": 0,
          "auftraggeber-inst-idn": 2
         },
         {
          "auftraggeber-inst-name": "Redaktion der Schriftenreihe \"Internationales Wirtschaftsarchiv\"",
          "idn": 1,
          "title": 1,
          "auftraggeber-per-idn": 0,
          "auftraggeber-per-name": 0,
          "auftraggeber-inst-idn": 0
         },
         {
          "auftraggeber-inst-name": "Redaktion des Berliner Tageblatt",
          "idn": 1,
          "title": 1,
          "auftraggeber-per-idn": 0,
          "auftraggeber-per-name": 0,
          "auftraggeber-inst-idn": 1
         },
         {
          "auftraggeber-inst-name": "Reinhold Publishing Corporation",
          "idn": 8,
          "title": 8,
          "auftraggeber-per-idn": 0,
          "auftraggeber-per-name": 0,
          "auftraggeber-inst-idn": 8
         },
         {
          "auftraggeber-inst-name": "Rentsch AG",
          "idn": 3,
          "title": 3,
          "auftraggeber-per-idn": 0,
          "auftraggeber-per-name": 0,
          "auftraggeber-inst-idn": 3
         },
         {
          "auftraggeber-inst-name": "Restaurant Flügelrad",
          "idn": 1,
          "title": 1,
          "auftraggeber-per-idn": 0,
          "auftraggeber-per-name": 0,
          "auftraggeber-inst-idn": 0
         },
         {
          "auftraggeber-inst-name": "Rotapfel-Verlag",
          "idn": 1,
          "title": 1,
          "auftraggeber-per-idn": 0,
          "auftraggeber-per-name": 0,
          "auftraggeber-inst-idn": 1
         },
         {
          "auftraggeber-inst-name": "Rud. Mettauer-Schneebeli, Schreinerei",
          "idn": 1,
          "title": 1,
          "auftraggeber-per-idn": 0,
          "auftraggeber-per-name": 0,
          "auftraggeber-inst-idn": 0
         },
         {
          "auftraggeber-inst-name": "Rudolf-Steiner-Schule",
          "idn": 1,
          "title": 1,
          "auftraggeber-per-idn": 0,
          "auftraggeber-per-name": 0,
          "auftraggeber-inst-idn": 1
         },
         {
          "auftraggeber-inst-name": "Schola Cantorum Basiliensis",
          "idn": 4,
          "title": 4,
          "auftraggeber-per-idn": 0,
          "auftraggeber-per-name": 0,
          "auftraggeber-inst-idn": 4
         },
         {
          "auftraggeber-inst-name": "Schriftguss AG",
          "idn": 1,
          "title": 1,
          "auftraggeber-per-idn": 0,
          "auftraggeber-per-name": 0,
          "auftraggeber-inst-idn": 1
         },
         {
          "auftraggeber-inst-name": "Schüler & Ulbrich",
          "idn": 1,
          "title": 1,
          "auftraggeber-per-idn": 0,
          "auftraggeber-per-name": 0,
          "auftraggeber-inst-idn": 0
         },
         {
          "auftraggeber-inst-name": "Schwabe",
          "idn": 1,
          "title": 1,
          "auftraggeber-per-idn": 0,
          "auftraggeber-per-name": 0,
          "auftraggeber-inst-idn": 0
         },
         {
          "auftraggeber-inst-name": "Schwabe & Co.",
          "idn": 30,
          "title": 30,
          "auftraggeber-per-idn": 0,
          "auftraggeber-per-name": 0,
          "auftraggeber-inst-idn": 30
         },
         {
          "auftraggeber-inst-name": "Schwabe AG",
          "idn": 1,
          "title": 1,
          "auftraggeber-per-idn": 0,
          "auftraggeber-per-name": 0,
          "auftraggeber-inst-idn": 1
         },
         {
          "auftraggeber-inst-name": "Schweizerische Akademie der Medizinischen Wissenschaften",
          "idn": 4,
          "title": 4,
          "auftraggeber-per-idn": 0,
          "auftraggeber-per-name": 0,
          "auftraggeber-inst-idn": 4
         },
         {
          "auftraggeber-inst-name": "Schweizerische Grossloge Alpina",
          "idn": 1,
          "title": 1,
          "auftraggeber-per-idn": 0,
          "auftraggeber-per-name": 0,
          "auftraggeber-inst-idn": 1
         },
         {
          "auftraggeber-inst-name": "Schweizerische Handelsgesellschaft",
          "idn": 1,
          "title": 1,
          "auftraggeber-per-idn": 0,
          "auftraggeber-per-name": 0,
          "auftraggeber-inst-idn": 1
         },
         {
          "auftraggeber-inst-name": "Schweizerische Kreditanstalt",
          "idn": 1,
          "title": 1,
          "auftraggeber-per-idn": 0,
          "auftraggeber-per-name": 0,
          "auftraggeber-inst-idn": 1
         },
         {
          "auftraggeber-inst-name": "Schweizerische Lebensrettungs-Gesellschaft",
          "idn": 1,
          "title": 1,
          "auftraggeber-per-idn": 0,
          "auftraggeber-per-name": 0,
          "auftraggeber-inst-idn": 1
         },
         {
          "auftraggeber-inst-name": "Schweizerische Medizinisches Jahrbuch - Anzeigenverwaltung",
          "idn": 1,
          "title": 1,
          "auftraggeber-per-idn": 0,
          "auftraggeber-per-name": 0,
          "auftraggeber-inst-idn": 0
         },
         {
          "auftraggeber-inst-name": "Schweizerischer Buchdruckerverein",
          "idn": 1,
          "title": 1,
          "auftraggeber-per-idn": 0,
          "auftraggeber-per-name": 0,
          "auftraggeber-inst-idn": 1
         },
         {
          "auftraggeber-inst-name": "Schweizerischer Buchhändler- und Verlegerverein",
          "idn": 2,
          "title": 2,
          "auftraggeber-per-idn": 0,
          "auftraggeber-per-name": 0,
          "auftraggeber-inst-idn": 2
         },
         {
          "auftraggeber-inst-name": "Schweizerischer Buchhändlerverein & Verein Schweizerischer Verlagsbuchhändler & Société des libraires et éditeurs de la Suisse romande",
          "idn": 4,
          "title": 4,
          "auftraggeber-per-idn": 0,
          "auftraggeber-per-name": 0,
          "auftraggeber-inst-idn": 4
         },
         {
          "auftraggeber-inst-name": "Schweizerischer Geflügelzuchtverband",
          "idn": 1,
          "title": 1,
          "auftraggeber-per-idn": 0,
          "auftraggeber-per-name": 0,
          "auftraggeber-inst-idn": 1
         },
         {
          "auftraggeber-inst-name": "Schweizerischer Reklame-Verband",
          "idn": 2,
          "title": 2,
          "auftraggeber-per-idn": 0,
          "auftraggeber-per-name": 0,
          "auftraggeber-inst-idn": 2
         },
         {
          "auftraggeber-inst-name": "Schweizerischer Typographenbund",
          "idn": 7,
          "title": 7,
          "auftraggeber-per-idn": 0,
          "auftraggeber-per-name": 0,
          "auftraggeber-inst-idn": 7
         },
         {
          "auftraggeber-inst-name": "Schweizerischer Werkbund",
          "idn": 1,
          "title": 1,
          "auftraggeber-per-idn": 0,
          "auftraggeber-per-name": 0,
          "auftraggeber-inst-idn": 1
         },
         {
          "auftraggeber-inst-name": "Schweizerisches Vereinssortiment",
          "idn": 6,
          "title": 6,
          "auftraggeber-per-idn": 0,
          "auftraggeber-per-name": 0,
          "auftraggeber-inst-idn": 6
         },
         {
          "auftraggeber-inst-name": "Schwitter AG",
          "idn": 1,
          "title": 1,
          "auftraggeber-per-idn": 0,
          "auftraggeber-per-name": 0,
          "auftraggeber-inst-idn": 1
         },
         {
          "auftraggeber-inst-name": "Sektkellerei Schloß Saarfels",
          "idn": 1,
          "title": 1,
          "auftraggeber-per-idn": 0,
          "auftraggeber-per-name": 0,
          "auftraggeber-inst-idn": 1
         },
         {
          "auftraggeber-inst-name": "Semaine Médicale Internationale en Suisse",
          "idn": 1,
          "title": 1,
          "auftraggeber-per-idn": 0,
          "auftraggeber-per-name": 0,
          "auftraggeber-inst-idn": 1
         },
         {
          "auftraggeber-inst-name": "Stadttheater",
          "idn": 1,
          "title": 1,
          "auftraggeber-per-idn": 0,
          "auftraggeber-per-name": 0,
          "auftraggeber-inst-idn": 1
         },
         {
          "auftraggeber-inst-name": "Städtische Berufsfortbildungsschule für Buchdrucker",
          "idn": 1,
          "title": 1,
          "auftraggeber-per-idn": 0,
          "auftraggeber-per-name": 0,
          "auftraggeber-inst-idn": 1
         },
         {
          "auftraggeber-inst-name": "Städtische Gewerbeschule an der Pranckhstraße",
          "idn": 2,
          "title": 2,
          "auftraggeber-per-idn": 0,
          "auftraggeber-per-name": 0,
          "auftraggeber-inst-idn": 2
         },
         {
          "auftraggeber-inst-name": "Städtische Gewerbeschule an der Westenriederstraße",
          "idn": 2,
          "title": 2,
          "auftraggeber-per-idn": 0,
          "auftraggeber-per-name": 0,
          "auftraggeber-inst-idn": 2
         },
         {
          "auftraggeber-inst-name": "Städtisches Kaufhaus",
          "idn": 1,
          "title": 1,
          "auftraggeber-per-idn": 1,
          "auftraggeber-per-name": 1,
          "auftraggeber-inst-idn": 1
         },
         {
          "auftraggeber-inst-name": "Suter & Suter Architekten",
          "idn": 1,
          "title": 1,
          "auftraggeber-per-idn": 0,
          "auftraggeber-per-name": 0,
          "auftraggeber-inst-idn": 1
         },
         {
          "auftraggeber-inst-name": "Suter, Joerin und Co.",
          "idn": 2,
          "title": 2,
          "auftraggeber-per-idn": 0,
          "auftraggeber-per-name": 0,
          "auftraggeber-inst-idn": 2
         },
         {
          "auftraggeber-inst-name": "Süddeutsche Holzwirtschaftsbank",
          "idn": 2,
          "title": 2,
          "auftraggeber-per-idn": 0,
          "auftraggeber-per-name": 0,
          "auftraggeber-inst-idn": 2
         },
         {
          "auftraggeber-inst-name": "Südkurier GmbH",
          "idn": 3,
          "title": 3,
          "auftraggeber-per-idn": 0,
          "auftraggeber-per-name": 0,
          "auftraggeber-inst-idn": 3
         },
         {
          "auftraggeber-inst-name": "Testor Treuhand AG",
          "idn": 10,
          "title": 10,
          "auftraggeber-per-idn": 0,
          "auftraggeber-per-name": 0,
          "auftraggeber-inst-idn": 10
         },
         {
          "auftraggeber-inst-name": "The Country Press",
          "idn": 1,
          "title": 1,
          "auftraggeber-per-idn": 1,
          "auftraggeber-per-name": 1,
          "auftraggeber-inst-idn": 0
         },
         {
          "auftraggeber-inst-name": "UNS-Bücherstube",
          "idn": 3,
          "title": 3,
          "auftraggeber-per-idn": 0,
          "auftraggeber-per-name": 0,
          "auftraggeber-inst-idn": 3
         },
         {
          "auftraggeber-inst-name": "Uhertype AG",
          "idn": 22,
          "title": 22,
          "auftraggeber-per-idn": 1,
          "auftraggeber-per-name": 1,
          "auftraggeber-inst-idn": 0
         },
         {
          "auftraggeber-inst-name": "Universität Basel",
          "idn": 1,
          "title": 1,
          "auftraggeber-per-idn": 0,
          "auftraggeber-per-name": 0,
          "auftraggeber-inst-idn": 1
         },
         {
          "auftraggeber-inst-name": "Universitätsverlag, Freiburg im Üechtland",
          "idn": 1,
          "title": 1,
          "auftraggeber-per-idn": 0,
          "auftraggeber-per-name": 0,
          "auftraggeber-inst-idn": 0
         },
         {
          "auftraggeber-inst-name": "VEB Polydruck Dresden",
          "idn": 1,
          "title": 1,
          "auftraggeber-per-idn": 0,
          "auftraggeber-per-name": 0,
          "auftraggeber-inst-idn": 0
         },
         {
          "auftraggeber-inst-name": "VEB Polypack",
          "idn": 1,
          "title": 1,
          "auftraggeber-per-idn": 0,
          "auftraggeber-per-name": 0,
          "auftraggeber-inst-idn": 1
         },
         {
          "auftraggeber-inst-name": "Verband Schweizerischer Grafiker",
          "idn": 2,
          "title": 2,
          "auftraggeber-per-idn": 0,
          "auftraggeber-per-name": 0,
          "auftraggeber-inst-idn": 2
         },
         {
          "auftraggeber-inst-name": "Verband der Lernenden an der staatlichen Kunstgewerbeschule zu Dresden",
          "idn": 1,
          "title": 1,
          "auftraggeber-per-idn": 0,
          "auftraggeber-per-name": 0,
          "auftraggeber-inst-idn": 0
         },
         {
          "auftraggeber-inst-name": "Verein Gute Schriften",
          "idn": 5,
          "title": 5,
          "auftraggeber-per-idn": 0,
          "auftraggeber-per-name": 0,
          "auftraggeber-inst-idn": 5
         },
         {
          "auftraggeber-inst-name": "Vereinigung Basler Fotografen",
          "idn": 1,
          "title": 1,
          "auftraggeber-per-idn": 0,
          "auftraggeber-per-name": 0,
          "auftraggeber-inst-idn": 1
         },
         {
          "auftraggeber-inst-name": "Verkehrsverband München und Südbayern (Bayer. und Allgäuer Alpen)",
          "idn": 2,
          "title": 2,
          "auftraggeber-per-idn": 0,
          "auftraggeber-per-name": 0,
          "auftraggeber-inst-idn": 2
         },
         {
          "auftraggeber-inst-name": "Verlag Die Wölfe",
          "idn": 1,
          "title": 1,
          "auftraggeber-per-idn": 0,
          "auftraggeber-per-name": 0,
          "auftraggeber-inst-idn": 1
         },
         {
          "auftraggeber-inst-name": "Verlag F. A. C. Prestel",
          "idn": 8,
          "title": 8,
          "auftraggeber-per-idn": 0,
          "auftraggeber-per-name": 0,
          "auftraggeber-inst-idn": 8
         },
         {
          "auftraggeber-inst-name": "Verlag Hans Cossmann Leipzig",
          "idn": 1,
          "title": 1,
          "auftraggeber-per-idn": 0,
          "auftraggeber-per-name": 0,
          "auftraggeber-inst-idn": 0
         },
         {
          "auftraggeber-inst-name": "Verlag Lambert Schneider",
          "idn": 7,
          "title": 7,
          "auftraggeber-per-idn": 0,
          "auftraggeber-per-name": 0,
          "auftraggeber-inst-idn": 7
         },
         {
          "auftraggeber-inst-name": "Verlag der Kunst",
          "idn": 5,
          "title": 5,
          "auftraggeber-per-idn": 0,
          "auftraggeber-per-name": 0,
          "auftraggeber-inst-idn": 5
         },
         {
          "auftraggeber-inst-name": "Verlagsanstalt Benziger",
          "idn": 2,
          "title": 2,
          "auftraggeber-per-idn": 0,
          "auftraggeber-per-name": 0,
          "auftraggeber-inst-idn": 2
         },
         {
          "auftraggeber-inst-name": "Verlagsanstalt Hermann Klemm",
          "idn": 1,
          "title": 1,
          "auftraggeber-per-idn": 0,
          "auftraggeber-per-name": 0,
          "auftraggeber-inst-idn": 1
         },
         {
          "auftraggeber-inst-name": "Verlagsgesellschaft Beobachter",
          "idn": 5,
          "title": 5,
          "auftraggeber-per-idn": 0,
          "auftraggeber-per-name": 0,
          "auftraggeber-inst-idn": 5
         },
         {
          "auftraggeber-inst-name": "Verlagsgesellschaft des Allgemeinen Deutschen Gewerkschaftsbundes mbH",
          "idn": 1,
          "title": 1,
          "auftraggeber-per-idn": 0,
          "auftraggeber-per-name": 0,
          "auftraggeber-inst-idn": 1
         },
         {
          "auftraggeber-inst-name": "Vita Nova-Verlag",
          "idn": 1,
          "title": 1,
          "auftraggeber-per-idn": 0,
          "auftraggeber-per-name": 0,
          "auftraggeber-inst-idn": 1
         },
         {
          "auftraggeber-inst-name": "Volk & Schreiber",
          "idn": 1,
          "title": 1,
          "auftraggeber-per-idn": 0,
          "auftraggeber-per-name": 0,
          "auftraggeber-inst-idn": 1
         },
         {
          "auftraggeber-inst-name": "Volkshochschule Basel",
          "idn": 4,
          "title": 4,
          "auftraggeber-per-idn": 0,
          "auftraggeber-per-name": 0,
          "auftraggeber-inst-idn": 4
         },
         {
          "auftraggeber-inst-name": "Walter de Gruyter & Co.",
          "idn": 1,
          "title": 1,
          "auftraggeber-per-idn": 0,
          "auftraggeber-per-name": 0,
          "auftraggeber-inst-idn": 1
         },
         {
          "auftraggeber-inst-name": "Wegweiser-Verlag",
          "idn": 3,
          "title": 3,
          "auftraggeber-per-idn": 0,
          "auftraggeber-per-name": 0,
          "auftraggeber-inst-idn": 3
         },
         {
          "auftraggeber-inst-name": "Wepf & Co.",
          "idn": 3,
          "title": 3,
          "auftraggeber-per-idn": 0,
          "auftraggeber-per-name": 0,
          "auftraggeber-inst-idn": 3
         },
         {
          "auftraggeber-inst-name": "Wydawnictwo Philobiblon",
          "idn": 17,
          "title": 17,
          "auftraggeber-per-idn": 0,
          "auftraggeber-per-name": 0,
          "auftraggeber-inst-idn": 17
         },
         {
          "auftraggeber-inst-name": "Zeltner, Hans M.",
          "idn": 1,
          "title": 1,
          "auftraggeber-per-idn": 0,
          "auftraggeber-per-name": 0,
          "auftraggeber-inst-idn": 0
         },
         {
          "auftraggeber-inst-name": "Zentralkommission für Arbeitersport und Körperpflege",
          "idn": 1,
          "title": 1,
          "auftraggeber-per-idn": 0,
          "auftraggeber-per-name": 0,
          "auftraggeber-inst-idn": 1
         }
        ]
       }
      }
     },
     "metadata": {},
     "execution_count": 39
    }
   ],
   "metadata": {}
  },
  {
   "cell_type": "code",
   "execution_count": 46,
   "source": [
    "entstehungsorte = pd.read_csv('entstehungsorte.csv')\n",
    "orte = pd.read_csv('orte-geo.csv')"
   ],
   "outputs": [],
   "metadata": {}
  },
  {
   "cell_type": "code",
   "execution_count": 48,
   "source": [
    "import geopy.geocoders as geo\n",
    "from geopy.extra.rate_limiter import RateLimiter\n",
    "geolocator = geo.Nominatim(user_agent='rundschreiben')\n",
    "geo.options.default_timeout = 10\n",
    "geocode = RateLimiter(geolocator.geocode, min_delay_seconds=.5)\n"
   ],
   "outputs": [],
   "metadata": {}
  },
  {
   "cell_type": "code",
   "execution_count": 49,
   "source": [
    "orte['location'] = orte['ort-name'].apply(geocode)\n",
    "orte['lat'] = orte['location'].apply(lambda loc: loc.latitude if loc else None)\n",
    "orte['lon'] = orte['location'].apply(lambda loc: loc.longitude if loc else None)"
   ],
   "outputs": [],
   "metadata": {}
  },
  {
   "cell_type": "code",
   "execution_count": 51,
   "source": [
    "orte.to_csv('orte-geo-koord.csv', index=None)"
   ],
   "outputs": [],
   "metadata": {}
  },
  {
   "cell_type": "code",
   "execution_count": 53,
   "source": [
    "entstehungsorte = entstehungsorte.merge(orte, on='ort-name')"
   ],
   "outputs": [],
   "metadata": {}
  },
  {
   "cell_type": "code",
   "execution_count": 68,
   "source": [
    "ort_anzahl = pd.DataFrame(entstehungsorte.value_counts(['ort-name']).reset_index())\n",
    "ort_anzahl.columns = ['ort-name','n']"
   ],
   "outputs": [],
   "metadata": {}
  },
  {
   "cell_type": "code",
   "execution_count": 72,
   "source": [
    "orte_fin = orte.merge(ort_anzahl, on='ort-name')"
   ],
   "outputs": [],
   "metadata": {}
  },
  {
   "cell_type": "code",
   "execution_count": 117,
   "source": [
    "import pydeck as pdk\n",
    "#Karte\n",
    "INITIAL_VIEW_STATE = pdk.ViewState(\n",
    "    latitude=50.67877877706058,\n",
    "    longitude=8.129981238464392,\n",
    "    zoom=4.5,\n",
    "    max_zoom=16,\n",
    "    bearing=0,\n",
    "    )\n",
    "\n",
    "scatterplotlayer = pdk.Layer(\n",
    "    \"ScatterplotLayer\",\n",
    "    orte_fin[['ort-name','lat','lon','n']],\n",
    "    pickable=True,\n",
    "    opacity=0.5,\n",
    "    stroked=True,\n",
    "    filled=True,\n",
    "    radius_min_pixels=2,\n",
    "    line_width_min_pixels=1,\n",
    "    get_position='[lon, lat]',\n",
    "    get_radius=\"n*50\",\n",
    "    get_fill_color=[255, 140, 0],\n",
    "    get_line_color=[0, 0, 0],\n",
    ")\n",
    "\n",
    "r = pdk.Deck(\n",
    "    scatterplotlayer,\n",
    "    initial_view_state=INITIAL_VIEW_STATE,\n",
    "    map_style=pdk.map_styles.LIGHT\n",
    ")"
   ],
   "outputs": [],
   "metadata": {}
  },
  {
   "cell_type": "code",
   "execution_count": 109,
   "source": [
    "r.to_html()"
   ],
   "outputs": [
    {
     "output_type": "execute_result",
     "data": {
      "text/plain": [
       "<IPython.core.display.HTML object>"
      ],
      "text/html": [
       "<iframe src=\"about:blank\" frameborder=\"0\" srcdoc=\"&lt;!DOCTYPE html&gt;\n",
       "&lt;html&gt;\n",
       "  &lt;head&gt;\n",
       "    &lt;meta http-equiv=&quot;content-type&quot; content=&quot;text/html; charset=UTF-8&quot; /&gt;\n",
       "    &lt;title&gt;pydeck&lt;/title&gt;\n",
       "        &lt;script src=&quot;https://api.tiles.mapbox.com/mapbox-gl-js/v1.13.0/mapbox-gl.js&quot;&gt;&lt;/script&gt;\n",
       "        &lt;link rel=&quot;stylesheet&quot; href=&quot;https://maxcdn.bootstrapcdn.com/bootstrap/3.2.0/css/bootstrap-theme.min.css&quot; /&gt;\n",
       "    &lt;link rel=&quot;stylesheet&quot; href=&quot;https://maxcdn.bootstrapcdn.com/font-awesome/4.6.3/css/font-awesome.min.css&quot; /&gt;\n",
       "    &lt;script src=&#x27;https://cdn.jsdelivr.net/npm/@deck.gl/jupyter-widget@~8.4.*/dist/index.js&#x27;&gt;&lt;/script&gt;\n",
       "    &lt;style&gt;\n",
       "    body {\n",
       "  margin: 0;\n",
       "  padding: 0;\n",
       "  overflow: hidden;\n",
       "}\n",
       "\n",
       "#deck-map-container {\n",
       "  width: 100%;\n",
       "  height: 100%;\n",
       "  background-color: black;\n",
       "}\n",
       "\n",
       "#map {\n",
       "  pointer-events: none;\n",
       "  height: 100%;\n",
       "  width: 100%;\n",
       "  position: absolute;\n",
       "  z-index: 1;\n",
       "}\n",
       "\n",
       "#deckgl-overlay {\n",
       "  z-index: 2;\n",
       "  background: none;\n",
       "}\n",
       "\n",
       "#deck-map-wrapper {\n",
       "  width: 100%;\n",
       "  height: 100%;\n",
       "}\n",
       "\n",
       "#deck-container {\n",
       "  width: 100vw;\n",
       "  height: 100vh;\n",
       "}\n",
       "    &lt;/style&gt;\n",
       "  &lt;/head&gt;\n",
       "  &lt;body&gt;\n",
       "    &lt;div id=&quot;deck-container&quot;&gt;\n",
       "    &lt;/div&gt;\n",
       "  &lt;/body&gt;\n",
       "  &lt;script&gt;\n",
       "    const jsonInput = {&quot;initialViewState&quot;: {&quot;bearing&quot;: 0, &quot;latitude&quot;: 50.67877877706058, &quot;longitude&quot;: 8.129981238464392, &quot;maxZoom&quot;: 16, &quot;zoom&quot;: 4.5}, &quot;layers&quot;: [{&quot;@@type&quot;: &quot;ScatterplotLayer&quot;, &quot;data&quot;: [{&quot;lat&quot;: 46.2017029, &quot;lon&quot;: 8.6580917, &quot;n&quot;: 92}, {&quot;lat&quot;: 47.5581077, &quot;lon&quot;: 7.5878261, &quot;n&quot;: 1122}, {&quot;lat&quot;: 47.3496571, &quot;lon&quot;: 7.903787, &quot;n&quot;: 10}, {&quot;lat&quot;: 47.4824633, &quot;lon&quot;: 8.2085662, &quot;n&quot;: 2}, {&quot;lat&quot;: 52.5170365, &quot;lon&quot;: 13.3888599, &quot;n&quot;: 50}, {&quot;lat&quot;: 51.4889317, &quot;lon&quot;: -0.4755435, &quot;n&quot;: 221}, {&quot;lat&quot;: 48.1371079, &quot;lon&quot;: 11.5753822, &quot;n&quot;: 233}, {&quot;lat&quot;: 50.1106444, &quot;lon&quot;: 8.6820917, &quot;n&quot;: 16}, {&quot;lat&quot;: 51.3406321, &quot;lon&quot;: 12.3747329, &quot;n&quot;: 238}, {&quot;lat&quot;: 51.0493286, &quot;lon&quot;: 13.7381437, &quot;n&quot;: 11}, {&quot;lat&quot;: 48.7784485, &quot;lon&quot;: 9.1800132, &quot;n&quot;: 8}, {&quot;lat&quot;: 51.5073219, &quot;lon&quot;: -0.1276474, &quot;n&quot;: 29}, {&quot;lat&quot;: 52.0191005, &quot;lon&quot;: 8.531007, &quot;n&quot;: 1}, {&quot;lat&quot;: 48.3565749, &quot;lon&quot;: 7.3194249, &quot;n&quot;: 3}, {&quot;lat&quot;: 47.3744489, &quot;lon&quot;: 8.5410422, &quot;n&quot;: 28}, {&quot;lat&quot;: 48.8048828, &quot;lon&quot;: 9.2146797, &quot;n&quot;: 2}, {&quot;lat&quot;: 48.5236164, &quot;lon&quot;: 9.0535531, &quot;n&quot;: 13}, {&quot;lat&quot;: 46.8055656, &quot;lon&quot;: 7.1612669, &quot;n&quot;: 1}, {&quot;lat&quot;: 53.550341, &quot;lon&quot;: 10.000654, &quot;n&quot;: 7}, {&quot;lat&quot;: 46.5218269, &quot;lon&quot;: 6.6327025, &quot;n&quot;: 5}, {&quot;lat&quot;: 49.4093582, &quot;lon&quot;: 8.694724, &quot;n&quot;: 5}, {&quot;lat&quot;: 47.659216, &quot;lon&quot;: 9.1750718, &quot;n&quot;: 1}, {&quot;lat&quot;: 47.4839723, &quot;lon&quot;: 7.7347783, &quot;n&quot;: 1}, {&quot;lat&quot;: 47.7811014, &quot;lon&quot;: 9.612468, &quot;n&quot;: 3}, {&quot;lat&quot;: 50.0820384, &quot;lon&quot;: 8.2416556, &quot;n&quot;: 2}, {&quot;lat&quot;: 47.1286095, &quot;lon&quot;: 8.7500299, &quot;n&quot;: 3}, {&quot;lat&quot;: 47.4250593, &quot;lon&quot;: 9.3765878, &quot;n&quot;: 3}, {&quot;lat&quot;: 48.5711277, &quot;lon&quot;: -97.1780148, &quot;n&quot;: 1}, {&quot;lat&quot;: 47.0505452, &quot;lon&quot;: 8.3054682, &quot;n&quot;: 15}, {&quot;lat&quot;: 46.9482713, &quot;lon&quot;: 7.4514512, &quot;n&quot;: 5}, {&quot;lat&quot;: 46.9393277, &quot;lon&quot;: 7.4043817, &quot;n&quot;: 1}, {&quot;lat&quot;: 52.624056, &quot;lon&quot;: 10.081052, &quot;n&quot;: 4}, {&quot;lat&quot;: 52.3727598, &quot;lon&quot;: 4.8936041, &quot;n&quot;: 4}, {&quot;lat&quot;: 53.7944229, &quot;lon&quot;: -1.7519186, &quot;n&quot;: 2}, {&quot;lat&quot;: 59.3251172, &quot;lon&quot;: 18.0710935, &quot;n&quot;: 1}, {&quot;lat&quot;: 49.3295535, &quot;lon&quot;: 11.0195132, &quot;n&quot;: 1}, {&quot;lat&quot;: 47.5816927, &quot;lon&quot;: 7.6479737, &quot;n&quot;: 1}, {&quot;lat&quot;: NaN, &quot;lon&quot;: NaN, &quot;n&quot;: 1}, {&quot;lat&quot;: 48.2083537, &quot;lon&quot;: 16.3725042, &quot;n&quot;: 1}, {&quot;lat&quot;: 52.3744779, &quot;lon&quot;: 9.7385532, &quot;n&quot;: 1}, {&quot;lat&quot;: 52.2319581, &quot;lon&quot;: 21.0067249, &quot;n&quot;: 13}, {&quot;lat&quot;: 51.3441994, &quot;lon&quot;: 12.4438271, &quot;n&quot;: 1}, {&quot;lat&quot;: 49.5748582, &quot;lon&quot;: 6.5750795, &quot;n&quot;: 1}], &quot;filled&quot;: true, &quot;getFillColor&quot;: [255, 140, 0], &quot;getLineColor&quot;: [0, 0, 0], &quot;getPosition&quot;: &quot;@@=[lon, lat]&quot;, &quot;getRadius&quot;: &quot;@@=n*50&quot;, &quot;id&quot;: &quot;b1a56138-42f9-4d05-9317-0420323c2009&quot;, &quot;lineWidthMinPixels&quot;: 1, &quot;opacity&quot;: 0.5, &quot;pickable&quot;: true, &quot;radiusMinPixels&quot;: 2, &quot;stroked&quot;: true}], &quot;mapProvider&quot;: &quot;carto&quot;, &quot;mapStyle&quot;: &quot;https://basemaps.cartocdn.com/gl/positron-gl-style/style.json&quot;, &quot;views&quot;: [{&quot;@@type&quot;: &quot;MapView&quot;, &quot;controller&quot;: true}]};\n",
       "    const tooltip = true;\n",
       "    const customLibraries = null;\n",
       "\n",
       "    const deckInstance = createDeck({\n",
       "                  container: document.getElementById(&#x27;deck-container&#x27;),\n",
       "      jsonInput,\n",
       "      tooltip,\n",
       "      customLibraries\n",
       "    });\n",
       "\n",
       "  &lt;/script&gt;\n",
       "&lt;/html&gt;\" width=\"100%\" height=500></iframe>"
      ]
     },
     "metadata": {},
     "execution_count": 109
    }
   ],
   "metadata": {}
  },
  {
   "cell_type": "code",
   "execution_count": null,
   "source": [],
   "outputs": [],
   "metadata": {}
  }
 ],
 "metadata": {
  "orig_nbformat": 4,
  "language_info": {
   "name": "python",
   "version": "3.8.5",
   "mimetype": "text/x-python",
   "codemirror_mode": {
    "name": "ipython",
    "version": 3
   },
   "pygments_lexer": "ipython3",
   "nbconvert_exporter": "python",
   "file_extension": ".py"
  },
  "kernelspec": {
   "name": "python3",
   "display_name": "Python 3.8.5 64-bit ('base': conda)"
  },
  "interpreter": {
   "hash": "500e9f379dfc33ce5a29440abeb9db4daee6d18ed4745caa87d0342feb958303"
  }
 },
 "nbformat": 4,
 "nbformat_minor": 2
}